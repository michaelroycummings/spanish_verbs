{
 "cells": [
  {
   "cell_type": "markdown",
   "metadata": {},
   "source": [
    "# Spanish Verbs in Embedding Space"
   ]
  },
  {
   "cell_type": "markdown",
   "metadata": {},
   "source": [
    "## Overview\n",
    "This section serves as the manager of the project, and will cover the following topics:\n",
    "- **Aim and Goals**: clarify the focus of the project.\n",
    "- **Plan**: clearly state each step of the project.\n",
    "    - Although this seems a little self explanatory, exploratory data analysis (EDA) heavy projects like this one can easily rabbit-hole. The plan will be iterated on continuously and serve to determine whether a question that arises from EDA helps the final goal, before that question is explored and possibly branched further into new questions. \n",
    "- **Resources**: serves as a link lookup for each data needed, and allows us to verify whether we can access all the data necessary for our current plan before getting halfway and realizing data constraints mean we need to change the analysis."
   ]
  },
  {
   "cell_type": "markdown",
   "metadata": {},
   "source": [
    "### Aim and Goals\n",
    "This project has a very simple idea: in English, verbs that start with \"re\", that also have a non-re counterpart (e.g., redo and do) mean \"to do the verb again\".\n",
    "As I've been learning Spanish over the past few months, I've noticed verbs that do and do not follow this rule, so the project aims to use the embedding space of pre-trained language models to explore the adherence of Spanish verbs to this rule.\n",
    "\n",
    "Although the aim is simple, this is my first project after a year of self studying my Master's in Data Science, so this project will be overly verbose, branching into side ideas to practice and iron out the application kinks in as many topics as I can.\n",
    "\n",
    "An adaptive list:\n",
    "- practice matrix math with embedding space\n",
    "- practice creating language model\n",
    "- practice using pretrained models\n"
   ]
  },
  {
   "cell_type": "markdown",
   "metadata": {},
   "source": [
    "### Plan\n",
    "1. We need a Parts-of-Speech model to label a Spanish corpus as verbs or not.\n",
    "    1. Will need to test POS model's ability before using it to get a large list of verbs.\n",
    "        1. Find premade list of verbs.\n",
    "        2. Test POS performance on premade verb list.\n",
    "2. Get Spanish Verbs\n",
    "    1. Find Spanish Corpus\n",
    "    2. Use POS to filter for Verbs.\n",
    "    3. Create Bag-of-Words\n",
    "3. Get embedding models.\n",
    "    - Explain how transformers create embeddings from text using Hugging Face and BERT\n",
    "    - Hugging Face Transformer\n",
    "    - SpaCy tok2vec component\n",
    "    - Fasttext: will be baseline\n",
    "    - Maybe use glove or word2vec as other baselines\n",
    "4. Create baseline distance:\n",
    "    - Min and max distance between verbs\n",
    "    - Standard deviation of distance between verbs\n",
    "    - Average distance of kth closest verb for first 30 k's\n",
    "        - For every verb, calculate distance of 30 closest verbs, then average over all verbs\n",
    "    - Sanity check: Average distance between a few verbs and their similarity verb clusters\n",
    "5. Create tuples of re verbs and their non re counterparts\n",
    "6. Tests on RE verbs:\n",
    "    - 2D feature reduction:\n",
    "        - plot tuples in 2D space\n",
    "    - Embedding distance between tuples\n",
    "        - Min, max, mean, std dev\n",
    "        - plot distribution\n",
    "        - plot distance vs length of verb\n",
    "        - plot distance vs use of verbs (which metric to combine uses? average or max or both?)\n",
    "    - Kth closest verb for each item of each tuple\n",
    "    \n",
    "\n",
    "Other: should I add sense2vec or other sense vector models and compare the words, somehow, in each sense? At least mention sense vectors.\n"
   ]
  },
  {
   "cell_type": "markdown",
   "metadata": {},
   "source": [
    "### Resources\n",
    "\n",
    "<u>Spanish Corpora and Word Lists</u>\n",
    "\n",
    "| Type       | Source        | Link |\n",
    "|------------|---------------|------|\n",
    "| Corpus     | Kaggle        | [120M Words](https://www.kaggle.com/datasets/rtatman/120-million-word-spanish-corpus) |\n",
    "| Corpus     | HuggingFace   | [LargeSpanishCorpus](https://huggingface.co/datasets/large_spanish_corpus) |\n",
    "| Corpus     | HuggingFace   | [SpanishBillionWords](https://huggingface.co/datasets/spanish_billion_words) |\n",
    "| Words      | Github        | [lorenbrichter](https://raw.githubusercontent.com/lorenbrichter/Words/master/Words/es.txt) |\n",
    "| Verbs      | Github        | [bretttolbert](https://github.com/bretttolbert/verbecc/blob/main/verbecc/data/verbs-es.xml) |\n",
    "| Verbs      | Github        | [ghidinelli](https://github.com/ghidinelli/fred-jehle-spanish-verbs/blob/master/jehle_verb_database.csv) |\n",
    "\n",
    "<br>\n",
    "\n",
    "<u>Parts of Speech Checkers</u>\n",
    "- Hard coded: ar, er, ir\n",
    "- HuggingFace: [Spanish RoBERTa](https://huggingface.co/PlanTL-GOB-ES/roberta-large-bne-capitel-pos)\n",
    "- Spacy: [Spanish pipelines](https://spacy.io/models/es#es_core_news_md)"
   ]
  },
  {
   "cell_type": "markdown",
   "metadata": {},
   "source": [
    "### Things Learnt\n",
    "1. Transformer's have contextual embeddings (think multi-head attention), so they cannot provide an embedding for stand-alone words.\n",
    "2. some verbs have .pos_ 'AUX' not 'VERB'"
   ]
  },
  {
   "cell_type": "markdown",
   "metadata": {},
   "source": [
    "## Terminology and Background Info\n",
    "As many topics in natural language processing (NLP) are new and evolving, terminology is sometimes used to mean multiple things, which is detrimental to non-experts (like me) who do not have the context to assume the true meaning in each case. We will set clear definitions for these terms to avoid confusion throughout the project.\n",
    "\n",
    "As well, we will briefly explain model concepts so that decisions and comparisons made throughout the project can be appreciated by non-experts."
   ]
  },
  {
   "cell_type": "markdown",
   "metadata": {},
   "source": [
    "### Clarifying Common Terms\n",
    "Below is a clarification of some terminology that I've often seen used a little less specifically than is useful for people entering the space.\n",
    "\n",
    "Processes:\n",
    "- **Encoding:**\n",
    "  - **Meaning:** Tokenization and then numericalization. Takes text data, tokenizes it into string or byte tokens, and outputs a numerical scalar, called a token ID, for each token in the input sequence.\n",
    "  - **Conflated with:** Sometimes used to mean just tokenization.\n",
    "- **Tokenization:**\n",
    "  - **Meaning:** Splitting text data into smaller text data or into byte-data based on some rules.\n",
    "  - **Conflated with:** Used with about a 50 / 50 to mean solely tokenization, or tokenization and numericalization.\n",
    "- **Numericalization:**\n",
    "  - **Meaning:** Mapping a token to a numerical scalar called a token ID.\n",
    "  - **Conflated with:** This is almost never mentioned, but its crucial to understanding how the feature space of ML embedding models begin.\n",
    "- **Embedding Lookup:**\n",
    "  - **Meaning:** Mapping a token ID to position in multidimensional feature space, which we will call **input token embeddings**. These non-learnable embeddings are the tokens of the tokenizer, in the language of the embedding model. They are non-learnable, stored in an embedding matrix, and made based on a single vocabulary, to be sufficiently separated so that the embedding model can learn how to associate the tokens without a preconceived bias in the form of some tokens being closer together than others.\n",
    "  - **Conflated with:** This is also almost never mentioned, but it is so crucial! To understanding how the feature space of ML embedding models begin.\n",
    "    - **Note:** The term token embedding or word embedding is conflated constantly: when talking about the parts of a model, input word embeddings are simply called word embeddings. But when talking about uses of embedding models, word embeddings are the output of the embedding model for each token. So we will continue using input and output to distinguish the two. \n",
    "- **Embedding:**\n",
    "  - **Meaning:** Mapping a numerical vector that lacks semantic or contextual meaning (an input token embedding) to a numerical vector with semantic or contextual meaning (an output token embedding).\n",
    "  - **Conflated with:** Sometimes used to mean tokenization.\n",
    "\n",
    "Algorithms:\n",
    "- **Tokenizer:**\n",
    "  - **Meaning:** When the tokenizer is stand-alone and is not used for a specific model, it means an algorithm that solely performs tokenization. When the tokenizer is meant to be used for a specific, pre-trained model, it usually means an algorithm that includes the tokenization and numericalization steps, as the word embedding model almost never takes tokens in the form of strings or bytes.\n",
    "  - **Conflated with:** Sometimes used to mean an algorithm that performs the whole pipeline of tokenization, numericalization, embedding lookup, and embedding.\n",
    "- **Embedding model**:\n",
    "- **Language model**:"
   ]
  },
  {
   "cell_type": "markdown",
   "metadata": {},
   "source": [
    "### Encoder vs Decoder\n",
    "\n",
    "The distinction between encoder and decoder has different meanings even inside ML. In terms of **autoencoders**, an encoder learns a mapping from input feature space to a lower dimensional feature space, and a decoder learns to reconstruct the original feature space from the lower dimensional space.\n",
    "\n",
    "This is the understanding of encoders and decoders that I see most often, and its proliferation is shown in AI chatbots. When I asked Bing copilot to explain the difference between encoder and decoders, and have it align with GPT being decoder only and BERT being encoder only, it was unable to deviate from this common explanation.\n",
    "\n",
    "In the context of sequential data however:\n",
    "- **Encoders** are bidirectional and non auto-regressive. I.e., models that have access to the entire sequence before yielding an output that will be used.\n",
    "- **Decoders** are unidirectional and auto-regressive. I.e., models that have access to only previous elements of a sequence before yielding an output that will be used.\n",
    "    - During training, auto-regressive models use **teacher forcing**, which means using the next element of the ground-truth labels as input instead of the model's last output, to avoid compounding errors. Giving future elements to the auto-regressive model would \"cheat\", i.e., would train the model in an environment that will not exist during application.\n",
    "    - During prediction, future elements of the sequence do not exist, so a decoder cannot use the whole sequence.\n",
    "\n",
    "Here are some examples to solidify the definitions:\n",
    "- **Encoder-decoder RNN model**: this model type is often used for neural machine translation (NMT), i.e., using neural networks to translate between languages. The encoder RNN takes one element of the sequence per timestep, but its output (specifically, the hidden state of its highest layer) is not used until the encoder RNN sees the entire input sequence. The decoder RNN also takes one element of the sequence per time step, and its output is used as every timestep, while taking the output of the encoder RNN, that has used the entire encoder input sequence, at every timestep.\n",
    "- **A Seq2Seq RNN decoder**: to derive a single value from a sequence, you may use an Seq2Seq RNN instead of a Seq2Vec to give more comparisons to the loss function. In this case, the model is producing an output for every (or at least some) of the elements of the input sequence, but only the final output value will be used, and the model will have seen the entire input sequence before yielding this value, so this is the design of an encoder.\n",
    "- **GPT**: a unidirectional, auto-regressive transformer model that uses masked self-attention. In the [original paper](https://cdn.openai.com/research-covers/language-unsupervised/language_understanding_paper.pdf) it used next word prediction for pre-training.\n",
    "- **BERT**: BERT and [its variants](https://www.tensorflow.org/text/tutorials/classify_text_with_bert#loading_models_from_tensorflow_hub) are bidirectional, non auto-regressive transformer models that create an embedding based on the entire input sequence before an output layer or component uses that embedding for some task.\n",
    "\n",
    "Note that encoder-only models like BERT, and decoder-only models like GPT, can both perform classification and natural language generation tasks:\n",
    "- GPT's auto-regressive architecture naturally lends itself to natural language prediction, but its final output vector, the *extract* token in the [original paper](https://cdn.openai.com/research-covers/language-unsupervised/language_understanding_paper.pdf) can be used as an embedding of the entire input sequence for classification tasks.\n",
    "- BERT bidirectional architecture naturally lends itself to classification tasks, but the first element of its output vector, the *CLS* token in the [original paper](https://arxiv.org/pdf/1810.04805.pdf), can be fed to a decoder model for text generation tasks like text summation.\n",
    "\n",
    "Maybe links to add:\n",
    "- lack of congruity on the topic [here](https://datascience.stackexchange.com/questions/118260/chatgpts-architecture-decoder-only-or-encoder-decoder)\n",
    "- T5 paper, section 3.2.1, discussing model structures [here](https://arxiv.org/pdf/1910.10683.pdf)"
   ]
  },
  {
   "cell_type": "markdown",
   "metadata": {},
   "source": [
    "### Parts of an ML NLP Model\n",
    "\n",
    "\n",
    "Trainable NLP models can be thought of as three distinct parts:\n",
    "- **Tokenizer model**: a set of pre-defined rules that performs normalization (cleaning raw text), tokenization (dividing cleaned text data it into string or byte tokens) and numericalization (maps each token to numerical scalar called a **token ID**). \n",
    "- **Embedding model**: a embedding matrix that performs embedding lookup (each token ID is mapped to an input embedding token in embedding space) followed by a set of a set of neural layers that performs embedding (maps input token embeddings to output token embeddings in a learnable embedding space that represents features of speech, with respect to that embedding lookup mapping).\n",
    "- **Task head**: one or more neural layers that map the output token embeddings to the output(s) needed for a specific task.\n",
    "\n",
    "Each pre-trained model has a specific tokenizer that preprocessed the data before training. An embedding model can only be used with its own tokenizer because the embedding model understands language in the context of the input token embeddings, and the map from a language to those embeddings are stored in the tokenizer.\n",
    "\n",
    "A single training instance is usually one or more sentences. Each token in that instance is an element of the sequence for that instance.\n",
    "\n",
    "As well as token IDs, some tokenizers will pass position IDs and mask IDs to the embedding model. The embedding model will have a separate embedding lookup matrix for each type of ID. Each matrix will output the same number of dimensions, and the input token embeddings will be a sum of the embedding for each ID."
   ]
  },
  {
   "cell_type": "markdown",
   "metadata": {},
   "source": [
    "### NLP Models\n",
    "\n",
    "The title to this section is vague as many models fall into multiple categories: tokenizers, embedding models,  language models.\n",
    "\n",
    "<u>Ignores Semantics and Context</u>\n",
    "- Models that cannot capture semantics nor context are used solely for tokenization.\n",
    "- Examples: bag of words (BOW), term frequency inverse document frequency (TF-IDF).\n",
    "\n",
    "<u>Captures Semantics, Ignores Context</u>\n",
    "- Current models that capture semantics are neural networks comprised solely of simple feed forward layers. They are mainly used to tokenize and embed text before giving those embeddings to a more complex model for further embedding and task output, but can also be used themselves for non natural language generation tasks.\n",
    "- Examples: Word2Vec, GloVe, FastText\n",
    "\n",
    "<u>Captures Semantics and Context</u>\n",
    "- Current models that capture both semantics and context are neural networks comprised of layers that can combine multiple elements of a multidimensional sequence, i.e., recurrent, convolutional, and attention layers (the distinction here being that feed forward layers handle elements of a sequence separately).\n",
    "- They are mainly used to tokenize, embed, and then perform NLP tasks that can involve natural language generation tasks, but can also be used solely for their embeddings.\n",
    "- Examples:\n",
    "    - Encoders like BERT and its variants will usually use a task head of simple feed forward layers for classification tasks, and a complex decoder for natural language generation tasks, giving both task heads as input, the final embedding of a single token, usually a special token that does not correspond to any input text data  (e.g., CLS for BERT).\n",
    "    - Decoders like GPT will usually also use a task head of simple feed forward layers for classification tasks, and its sequence of outputs for natural language generation tasks. For the classification tasks, a task head would also receive the final embedding of a single, special token (e.g., the extract token for GPT)"
   ]
  },
  {
   "cell_type": "markdown",
   "metadata": {},
   "source": [
    "### Word Embeddings\n",
    "\n",
    "Now that we have a good understanding of the dataflow through a transformer model, lets discuss word embeddings.\n",
    "\n",
    "**Word embeddings** are multidimensional vectors that should carry semantic structures of language, as well as contextual structures if the model is contextual. The reasoning is that, if a neural network is trained on one or more tasks that involve understanding speech, the hidden layers are likely capturing structures present in that language.\n",
    "\n",
    "<br>\n",
    "\n",
    "<u>Extracting Word Embeddings</u>\n",
    "\n",
    "Since different architectures have different methods for mapping hidden layer outputs to the output layer and thus to the loss function, how we derive word embeddings is architecture dependent:\n",
    "- **Word2Vec**: both model types - CBOW and skip-gram - use a single feed forward hidden layer that is unique in the sense that it is connected to every output of every sequence element of the input layer, instead of the canonical dense layer practice of handling sequence elements independently. The output layer is connected to all neurons of the hidden layer, so the hidden layer represents semantic structure of the entire input text. Thus, we will pass single words to this model and use its entire hidden layer as the word embedding for the input word.\n",
    "- **FastText**: their models upgrade the tokenizer to a subword approach but use the same architecture as Word2Vec models, so we will derive their word embeddings in the same way.\n",
    "- **SpaCy models**: connects a word embedding component called `tok2vec` to multiple task-specific components that each use the `tok2vec`'s output as well as the output of necessary task-specific components. Thus, the `tok2vec` component is trained on multiple tasks. SpaCy employs a CNN and transformer `tok2vec` implementation, both of which have all of their token elements used in the task specific layers. This is in comparison to BERT and GPT-like architectures that use a single token for supervised learning tasks. Thus, we will take only the final layer embeddings of these models as the token vectors.\n",
    "- **Transformers**: these models often use the embeddings of a single, special token (e.g. CLS for BERT or \"predict\" for GPT) that does not represent any input data. This token has the possibility of being influenced by any token embedding at any transformer layer, with higher layers having a more likely influence. Thus, common practice for deriving word embeddings from transformers is to sum the embeddings of the last few layers for each token that makes up the target word in the input.\n",
    "\n",
    "<br>\n",
    "\n",
    "<u>Contextually Dependent or Independent Word Embeddings</u>\n",
    "\n",
    "It could be interesting to compare the embedding space of context-independent and dependent word embedding models, so we will use both types in our analysis.\n",
    "\n",
    "Inputs:\n",
    "- To the context-independent models, we will input sole verbs and document the embedding space for each verb.\n",
    "- To the context-independent models, we will input each sample instance found in the corpus, and a verb embedding will be the average of that word embedding in each sentence containing the word. As well, we will note the word counts incase very infrequent verbs change the results of our analysis."
   ]
  },
  {
   "cell_type": "markdown",
   "metadata": {},
   "source": [
    "#### FastText\n",
    "\n",
    "The **FastText model** is the skip-gram model using a [subword vocabulary]((https://arxiv.org/pdf/1607.04606.pdf)) made of all n-grams found in the training corpus, where n is a single choice between 3-6. Each word is represented as the sum of it's n-gram's token embeddings.\n",
    "\n",
    "The [original](https://arxiv.org/pdf/1310.4546.pdf) **skip-gram model** uses a single feed forward hidden layer that is fully connected to each feature of each element in the input sequence. Note this difference from how PyTorch and Tensorflow implement feed forward layers, which is to have it fully connected solely to the last dimension of the input shape, which results in applying the layer independently to each element of a sequence passed to the layer.\n",
    "\n",
    "As an example of the subword tokenizer, the word `happy` for a FastText model of n=4 is represented as the sum of the token embeddings for the tokens `<hap`, `happ`, `appy`, `ppy>`.\n",
    "\n",
    "FastText hosts models [pre-trained](https://fasttext.cc/docs/en/crawl-vectors.html) with the following specs:\n",
    "- Used the Common Crawl and Wikipedia text databases.\n",
    "- Used the CBOW pre-training task with a window of 5 context words and 10 negative samples.\n",
    "- Hidden layer has 300 neurons so each word embedding is 300D.\n",
    "- Tokenizer used a 5-gram subword vocabulary."
   ]
  },
  {
   "cell_type": "markdown",
   "metadata": {},
   "source": [
    "#### SpaCy\n",
    "\n",
    "SpaCy offers two types of ready-made models:\n",
    "- [Pipeline models](https://spacy.io/models#design-cnn): models labelled `sm`/`md`/`lg` are a pipeline of [single-task](https://spacy.io/usage/processing-pipelines) CNN components that inherit from the (1) the tokenizer and (2) the last component output ([visual](https://spacy.io/models#design-cnn)). The exception being the Named Entity Recognition component which has its own trainable tokenizer. Thus, we will use the tokenizer trained on multiple tasks.\n",
    "- [Transformer models](https://spacy.io/models#design-trf): models labelled `trf` are pipeline models that have only two differences from their non-transformer counterparts: (1) the tokenizer is transformer, and (2) the NER component does not have its own tokenizer. Thus, the only choice for non-task specific embedding layers is the transformer tokenizer component."
   ]
  },
  {
   "cell_type": "markdown",
   "metadata": {},
   "source": [
    "### Transformer Models from HuggingFace \n",
    "\n",
    "Hugging Face is a machine learning platform that hosts an open-source database of pre-trained transformer models. Each model on the hub has a model card, that explain can explain the model's architecture, pre-training tasks, and usage via Hugging Face's `transformers` python library.\n",
    "\n",
    "<br>\n",
    "\n",
    "<u>Loading and Usage</u>\n",
    "\n",
    "Many users create model cards that point to the pre-trained model file but do not create functionality for the transformers library. If the model is configured with the library, it can be used out-of-the-box via the [pipeline](https://huggingface.co/docs/transformers/pipeline_tutorial) functionality, or handled with more flexibility via an `AutoModel` [class](https://huggingface.co/docs/transformers/model_doc/auto#transformers.AutoModel).\n",
    "\n",
    "<br>\n",
    "\n",
    "<u>Fine-Tuning</u>\n",
    "\n",
    "Models configured with `transformers` can be fine-tuned using the in-house `Trainer` [class](https://huggingface.co/docs/transformers/v4.37.1/en/main_classes/trainer#transformers.Trainer), or easily converted to work within the [PyTorch](https://pytorch.org/hub/huggingface_pytorch-transformers/) and [TensorFlow](https://www.tensorflow.org/text/tutorials/classify_text_with_bert) python library ecosystems.\n",
    "\n",
    "<br>\n",
    "\n",
    "<u>Preprocessing</u>\n",
    "\n",
    "Each model is associated with the specific tokenizer that was used for pre-training. \n",
    "\n",
    "The tokenizer outputs scalar IDs, and the transformer model's first layer is an embedding layer that performs embedding lookup to map each ID to an embedding vector. Hugging Face tokenizers output token IDs and attention IDs, as well as token type IDs for some models. The subsequent transformer model will also require position IDs, which it assigns itself, and possible language IDs, which users currently have to prepare manually.\n",
    "\n",
    "Each ID type is described below.\n",
    "\n",
    "| ID Type       | Description |\n",
    "| ------------- | ----------- |\n",
    "| Token IDs     | These map each token string or byte to a scalar integer. |\n",
    "| Token Type IDs| Used in models like BERT to differentiate between sentences in a pair. |\n",
    "| Attention IDs | Used to mask out padding tokens, to create attention windows, or for masked attention in auto-regressive models.|\n",
    "| Position IDs  | Only used for bidirectional / non auto-regressive models.|\n",
    "| Language IDs  | Only used for multilingual or cross-lingual models (e.g., [XLM](https://arxiv.org/pdf/1901.07291.pdf)) and currently, must be manually created.|\n",
    "\n",
    "<br>\n",
    "\n",
    "<u>Layers and Outputs - A Deep-ish Dive</u>\n",
    "\n",
    "**BERT** or \"Bidirectional Encoder Representations from Transformers\" is a popular bidirectional / non-masked transformer model, whose [architecture](https://arxiv.org/pdf/1810.04805.pdf) has remained the same in many newer models that improve the original training methods and training tasks used ([RoBERTa](https://arxiv.org/pdf/1907.11692.pdf), [XLM]()) or whose parameter sharing allows for a smaller model ([ALBERT](https://arxiv.org/pdf/1909.11942.pdf)).\n",
    "\n",
    "We will use BERT to understand how to access components, layers, attention matrices, and outputs of a model in the Hugging Face `transformer` library.\n"
   ]
  },
  {
   "cell_type": "code",
   "execution_count": null,
   "metadata": {},
   "outputs": [],
   "source": [
    "from transformers import BertTokenizer, BertModel\n",
    "model_name = \"bert-base-multilingual-cased\"\n",
    "tokenizer = BertTokenizer.from_pretrained(model_name)\n",
    "model = BertModel.from_pretrained(\n",
    "    model_name, output_hidden_states = True,\n",
    "    output_attentions = True, return_dict = True)\n",
    "\n",
    "example_text = \"El gato está en la caja. El perro lo busca a el.\" # The cat is in the box. The dog looks for him.\n",
    "example_text = \"El gato está en la caja. El perro lo busca a el. Hace dos dias habia mucha gente que bailan por toda la noche y al final, todo se fue feliz. Tambien, el dijo a todo que tuvo un gran tiempo.\" # The cat is in the box. The dog looks for him.\n",
    "token_ids = tokenizer(example_text, return_tensors=\"pt\") # returns PyTorch tensors\n",
    "outputs = model(**token_ids)\n"
   ]
  },
  {
   "cell_type": "markdown",
   "metadata": {},
   "source": [
    "The tokenizer used for BERT implements **WordPiece** tokenization, a sub-word tokenization method that starts with a vocabulary of all characters in the training data, and for k steps, merges two tokens in the vocabulary, including merged tokens, to create the next most seen sub-word. BERT's tokenizer then adds a CLS token to the start of each sequence, and a SEP token between each sentence in a single sample instance (relevant for tasks like next sentence prediction and sentence comparison). Then the tokenizer performs padding and truncation if necessary, and then maps each str token to a integer scalar, called a token ID. Finally, it outputs three features for each token: token IDs, position IDs, and attention IDs.\n",
    "\n",
    "Even though we have two sentences, our model does not have a task head that can handle next sentence prediction, so the corresponding tokenizer does not differentiate between the sentences, and gives tokens in both sentences the same attention ID."
   ]
  },
  {
   "cell_type": "code",
   "execution_count": null,
   "metadata": {},
   "outputs": [
    {
     "name": "stdout",
     "output_type": "stream",
     "text": [
      "Number of tokens: 55\n",
      "input_ids: [101, 10224, 11887, 10340, 11559, 10110, 10109, 107562, 119, 10224, 10178, 10567, 10406, 29662, 169, 10125, 119, 13740, 10419, 10398, 24277, 16266, 10280, 85346, 28775, 10121, 48775, 12055, 10183, 15650, 10109, 29190, 193, 10164, 11070, 117, 12655, 10126, 10553, 100898, 119, 27324, 42200, 117, 10125, 34969, 169, 12655, 10121, 14765, 10119, 11432, 14104, 119, 102]\n",
      "token_type_ids: [0, 0, 0, 0, 0, 0, 0, 0, 0, 0, 0, 0, 0, 0, 0, 0, 0, 0, 0, 0, 0, 0, 0, 0, 0, 0, 0, 0, 0, 0, 0, 0, 0, 0, 0, 0, 0, 0, 0, 0, 0, 0, 0, 0, 0, 0, 0, 0, 0, 0, 0, 0, 0, 0, 0]\n",
      "attention_mask: [1, 1, 1, 1, 1, 1, 1, 1, 1, 1, 1, 1, 1, 1, 1, 1, 1, 1, 1, 1, 1, 1, 1, 1, 1, 1, 1, 1, 1, 1, 1, 1, 1, 1, 1, 1, 1, 1, 1, 1, 1, 1, 1, 1, 1, 1, 1, 1, 1, 1, 1, 1, 1, 1, 1]\n"
     ]
    }
   ],
   "source": [
    "inputs = tokenizer(example_text)\n",
    "print(f\"Number of tokens: {len(inputs['input_ids'])}\")\n",
    "for key, value in inputs.items():\n",
    "    print(f\"{key}: {value}\")"
   ]
  },
  {
   "cell_type": "markdown",
   "metadata": {},
   "source": [
    "Now we'll go through each component of BERT to understand how the sub-word representing token IDs are transformed to a embedding that contains semantic and contextual info, and further transformer to the output of a task.\n",
    "\n",
    "Hugging Face's BERT implementation is divided into 3 components:\n",
    "- \"Embedding\": performs embedding lookup on each ID feature and combines the ID features\n",
    "- \"Encoder\": performs the semantic and contextual embedding\n",
    "- \"Pooler\": takes the embedding at the CLS token position and applies a single feed forward layer.\n",
    "\n",
    "<br>\n",
    "\n",
    "A note on the Pooler and Task Heads:\n",
    "\n",
    "When using a transformer for a specific task, a \"*task head*\" will be attached, which is simply an output layer that matches the outputs needed for the task, and possibly a few trainable layers between the ransformers pre-trained embedding layers and the output layer.\n",
    "\n",
    "The user can choose to feed the pooler's output to the task head, but most implementations I've seen on Hugging Face simply delete it and add their own task head that directly takes the CLS token embedding."
   ]
  },
  {
   "cell_type": "code",
   "execution_count": null,
   "metadata": {},
   "outputs": [
    {
     "data": {
      "text/plain": [
       "BertModel(\n",
       "  (embeddings): BertEmbeddings(\n",
       "    (word_embeddings): Embedding(119547, 768, padding_idx=0)\n",
       "    (position_embeddings): Embedding(512, 768)\n",
       "    (token_type_embeddings): Embedding(2, 768)\n",
       "    (LayerNorm): LayerNorm((768,), eps=1e-12, elementwise_affine=True)\n",
       "    (dropout): Dropout(p=0.1, inplace=False)\n",
       "  )\n",
       "  (encoder): BertEncoder(\n",
       "    (layer): ModuleList(\n",
       "      (0-11): 12 x BertLayer(\n",
       "        (attention): BertAttention(\n",
       "          (self): BertSelfAttention(\n",
       "            (query): Linear(in_features=768, out_features=768, bias=True)\n",
       "            (key): Linear(in_features=768, out_features=768, bias=True)\n",
       "            (value): Linear(in_features=768, out_features=768, bias=True)\n",
       "            (dropout): Dropout(p=0.1, inplace=False)\n",
       "          )\n",
       "          (output): BertSelfOutput(\n",
       "            (dense): Linear(in_features=768, out_features=768, bias=True)\n",
       "            (LayerNorm): LayerNorm((768,), eps=1e-12, elementwise_affine=True)\n",
       "            (dropout): Dropout(p=0.1, inplace=False)\n",
       "          )\n",
       "        )\n",
       "        (intermediate): BertIntermediate(\n",
       "          (dense): Linear(in_features=768, out_features=3072, bias=True)\n",
       "          (intermediate_act_fn): GELUActivation()\n",
       "        )\n",
       "        (output): BertOutput(\n",
       "          (dense): Linear(in_features=3072, out_features=768, bias=True)\n",
       "          (LayerNorm): LayerNorm((768,), eps=1e-12, elementwise_affine=True)\n",
       "          (dropout): Dropout(p=0.1, inplace=False)\n",
       "        )\n",
       "      )\n",
       "    )\n",
       "  )\n",
       "  (pooler): BertPooler(\n",
       "    (dense): Linear(in_features=768, out_features=768, bias=True)\n",
       "    (activation): Tanh()\n",
       "  )\n",
       ")"
      ]
     },
     "metadata": {},
     "output_type": "display_data"
    }
   ],
   "source": [
    "model"
   ]
  },
  {
   "cell_type": "markdown",
   "metadata": {},
   "source": [
    "BERT's embedding layer stores three embedding matrices that were trained along with the rest of the model during pre-training. It first performs embedding lookup to transform the three ID features from sequences of scalars to sequences of multidimensional vectors.\n",
    "\n",
    "The sum of the three lookup embedding vectors is then layer normalized for each element of the input sequence to create a single input token embedding for each element the input sequence (see [source code](https://github.com/huggingface/transformers/blob/0b5c7e4838fddeb4601acbb80cd2c71ddcf76726/src/transformers/models/bert/modeling_bert.py#L234) if interested).\n",
    "\n",
    "**Layer Normalization** means normalization applied to each unit of a layer. For attention layers, this means that a mean and variance are calculated for each element in the sequence, across all features of that element. In the context of input token embeddings, each token embedding will be normalized across its embedding dimensions.\n",
    "\n",
    "Note that PyTorch's `LayerNormalization` implementation applies, by default, a learnable affine transformation after normalization, meaning you must set the seed of the random generator to the same value if you want to train the normalization layer multiple times and return the same value for the same dataset.\n",
    "\n",
    "**Dropout** is a regularization technique that involves setting the activations of a given percentage of elements in a layer to zero, resulting in a thinned neural network. The [original paper](https://jmlr.org/papers/volume15/srivastava14a/srivastava14a.pdf) suggests reselecting the thinned network for every training instance, but [PyTorch](https://pytorch.org/docs/stable/generated/torch.nn.Dropout.html) and [Tensorflow](https://www.tensorflow.org/api_docs/python/tf/keras/layers/Dropout) implementations both perform it once per batch / step. In the context of input token embeddings, each element of the embedding vector of each sequence has an independent chance of being dropped.\n",
    "\n"
   ]
  },
  {
   "cell_type": "code",
   "execution_count": null,
   "metadata": {},
   "outputs": [
    {
     "data": {
      "text/plain": [
       "BertEmbeddings(\n",
       "  (word_embeddings): Embedding(119547, 768, padding_idx=0)\n",
       "  (position_embeddings): Embedding(512, 768)\n",
       "  (token_type_embeddings): Embedding(2, 768)\n",
       "  (LayerNorm): LayerNorm((768,), eps=1e-12, elementwise_affine=True)\n",
       "  (dropout): Dropout(p=0.1, inplace=False)\n",
       ")"
      ]
     },
     "metadata": {},
     "output_type": "display_data"
    }
   ],
   "source": [
    "model.embeddings"
   ]
  },
  {
   "cell_type": "markdown",
   "metadata": {},
   "source": [
    "BERT's \"encoder\" component contains all of its 12 transformer layers. Note that a 24 layer version also exists.\n",
    "\n",
    "Each layer performs bidirectional self-attention with 12 heads, and then 3 feed forward layers sandwiched with normalization layers, skip connections, and a GELU activation function. The bottom of [this post](https://gmihaila.medium.com/%EF%B8%8F-bert-inner-workings-1c3054cd1591) has a great diagram of the model."
   ]
  },
  {
   "cell_type": "code",
   "execution_count": null,
   "metadata": {},
   "outputs": [
    {
     "data": {
      "text/plain": [
       "BertEncoder(\n",
       "  (layer): ModuleList(\n",
       "    (0-11): 12 x BertLayer(\n",
       "      (attention): BertAttention(\n",
       "        (self): BertSelfAttention(\n",
       "          (query): Linear(in_features=768, out_features=768, bias=True)\n",
       "          (key): Linear(in_features=768, out_features=768, bias=True)\n",
       "          (value): Linear(in_features=768, out_features=768, bias=True)\n",
       "          (dropout): Dropout(p=0.1, inplace=False)\n",
       "        )\n",
       "        (output): BertSelfOutput(\n",
       "          (dense): Linear(in_features=768, out_features=768, bias=True)\n",
       "          (LayerNorm): LayerNorm((768,), eps=1e-12, elementwise_affine=True)\n",
       "          (dropout): Dropout(p=0.1, inplace=False)\n",
       "        )\n",
       "      )\n",
       "      (intermediate): BertIntermediate(\n",
       "        (dense): Linear(in_features=768, out_features=3072, bias=True)\n",
       "        (intermediate_act_fn): GELUActivation()\n",
       "      )\n",
       "      (output): BertOutput(\n",
       "        (dense): Linear(in_features=3072, out_features=768, bias=True)\n",
       "        (LayerNorm): LayerNorm((768,), eps=1e-12, elementwise_affine=True)\n",
       "        (dropout): Dropout(p=0.1, inplace=False)\n",
       "      )\n",
       "    )\n",
       "  )\n",
       ")"
      ]
     },
     "metadata": {},
     "output_type": "display_data"
    }
   ],
   "source": [
    "model.encoder"
   ]
  },
  {
   "cell_type": "markdown",
   "metadata": {},
   "source": [
    "Finally, lets go over what outputs we can get from a Hugging Face model:\n",
    "- `attentions`: contain the attention matrices for each head of each self-attention layer of the model. One attention matrix has shape `[sequence_length, sequence_length]` and shows, for each query, the distance between that query and every key, in embedding space. This model has 12 self-attention layers, each with 12 heads, so `12*12` attention matrices.\n",
    "- `hidden_states`: the activations (i.e., final output embeddings) of the embedding layer and the 12 `BertLayer`, so 13 matrices with shape `[sequence_length, model dimensions]`\n",
    "- `last_hidden_state`: the activations of the last attention layer. Note [post processing](https://huggingface.co/docs/transformers/en/main_classes/output#model-outputs) functions may cause this value to be unequal to `hidden_states[-1]`.\n",
    "- `pooler_output`: the activations of the feed forward layer that transformer's the CLS token's final embedding."
   ]
  },
  {
   "cell_type": "code",
   "execution_count": null,
   "metadata": {},
   "outputs": [
    {
     "name": "stdout",
     "output_type": "stream",
     "text": [
      "Attention matrices: 12 layers of 12 heads. Each matrix has shape [55, 55] meaning [sequence length of queries, sequence length of keys]\n",
      "Hidden states: 13 sets (for the embedding layer + 12 attention layers) of shape [55, 768] meaning [sequence length, model dimensions]\n",
      "Last hidden state: has shape [55, 768] meaning [sequence length, model dimensions]\n",
      "Pooler output: a 1D vector of 768 dimensions\n"
     ]
    }
   ],
   "source": [
    "print(\n",
    "    f\"Attention matrices: {len(outputs.attentions)} layers of {outputs.attentions[0].shape[1]} \"\n",
    "    + f\"heads. Each matrix has shape {list(outputs.attentions[0].shape[2:])} meaning \"\n",
    "    + \"[sequence length of queries, sequence length of keys]\")\n",
    "print(\n",
    "    f\"Hidden states: {len(outputs.hidden_states)} sets (for the embedding layer + 12 attention \"\n",
    "    + f\"layers) of shape {list(outputs.hidden_states[0].shape[1:])} meaning \"\n",
    "    + \"[sequence length, model dimensions]\")\n",
    "print(\n",
    "    f\"Last hidden state: has shape {list(outputs.last_hidden_state[0].shape)} meaning \"\n",
    "    + \"[sequence length, model dimensions]\")\n",
    "print(\n",
    "    f\"Pooler output: a 1D vector of {outputs.pooler_output[0].shape[0]} dimensions\")"
   ]
  },
  {
   "cell_type": "markdown",
   "metadata": {},
   "source": [
    "Now that we understand inputs, layers, and outputs of a transformers model, it would be interesting to visualise where in embedding space the input vectors start and where they end up after the transformers applies the contextual and semantic mapping that it learnt during pre-training. \n",
    "\n",
    "We'll use PCA and t-SNE to reduce the dimensionality to two for plotting. t-SNE can create reductions with different non-linear relationships, so we'll make a few plots, sampling different numbers of components, as well as PCA-only plot."
   ]
  },
  {
   "cell_type": "code",
   "execution_count": null,
   "metadata": {},
   "outputs": [],
   "source": [
    "def plot_embeddings(tsne_components: List[int]):\n",
    "\n",
    "    # Feature IDs (scalar)\n",
    "    word_ids = token_ids.input_ids[0]\n",
    "    sentence_ids = token_ids.token_type_ids[0]\n",
    "    position_ids = list(range(len(word_ids)))\n",
    "\n",
    "    # Embedding Lookup Matrices\n",
    "    word_embedding_matrix = model.embeddings.word_embeddings.weight.detach().numpy()\n",
    "    sentence_embedding_matrix = model.embeddings.token_type_embeddings.weight.detach().numpy()\n",
    "    position_embedding_matrix = model.embeddings.position_embeddings.weight.detach().numpy()\n",
    "\n",
    "    # Input Embeddings\n",
    "    word_embeddings = word_embedding_matrix[word_ids]\n",
    "    sentence_embeddings = sentence_embedding_matrix[sentence_ids]\n",
    "    position_embeddings = position_embedding_matrix[position_ids]\n",
    "    input_token_embeddings = outputs.hidden_states[0][0].detach().numpy()\n",
    "\n",
    "    # Meaningful Output Embeddings\n",
    "    output_token_embeddings = outputs.last_hidden_state[0].detach().numpy()\n",
    "\n",
    "    # Combine all lists\n",
    "    data = np.concatenate((\n",
    "        word_embeddings, sentence_embeddings, position_embeddings,\\\n",
    "        input_token_embeddings, output_token_embeddings), axis=0)\n",
    "\n",
    "    # Define the lengths of the embeddings\n",
    "    lengths = [\n",
    "        len(word_embeddings), len(sentence_embeddings), len(position_embeddings), \\\n",
    "        len(input_token_embeddings), len(output_token_embeddings)]\n",
    "\n",
    "    # Define the plot size\n",
    "    size = 10\n",
    "    alpha = 0.3\n",
    "\n",
    "    # Create subplots, one for PCA and other for each number of components in t-SNE\n",
    "    tsne_components.insert(0, None) # plus one for PCA\n",
    "    num_rows = len(tsne_components) // 2 + len(tsne_components) % 2\n",
    "    fig, axs = plt.subplots(num_rows, 2, figsize=(15, 5 * num_rows))\n",
    "\n",
    "    # Create t-SNE plots\n",
    "    for i, n_components in enumerate(tsne_components):\n",
    "\n",
    "        # Reduce dimensionality to 2D for plotting\n",
    "        if i == 0:\n",
    "            # Use PCA to reduce dimensionality to 2D\n",
    "            pca = PCA(n_components=2)\n",
    "            plot_data = pca.fit_transform(data)\n",
    "\n",
    "            title = f'PCA to 2D'\n",
    "        else:\n",
    "            # Use PCA to reduce dimensionality to size that t-SNE can handle\n",
    "            pca = PCA(n_components=n_components)\n",
    "            data_pca = pca.fit_transform(data)\n",
    "\n",
    "            # Use t-SNE to reduce dimensionality to 2D for plotting\n",
    "            tsne = TSNE(n_components=2)\n",
    "            plot_data = tsne.fit_transform(data_pca)\n",
    "\n",
    "            title = f'PCA to {n_components}, t-SNE to 2D'\n",
    "\n",
    "        # Split the transformed data back into separate arrays\n",
    "        plot_word, plot_sentence, plot_position, plot_input_token, plot_output_token \\\n",
    "            = np.split(plot_data, np.cumsum(lengths)[:-1])\n",
    "\n",
    "        # Sentence embedding is the same for all elements of the sequence\n",
    "        plot_sentence = np.mean(plot_sentence, axis=0).reshape(1, -1)\n",
    "\n",
    "        ax = axs[i//2, i%2]\n",
    "        ax.scatter(plot_word[:, 0], plot_word[:, 1], c='r', label='Word Embeddings', s=size, alpha=alpha)\n",
    "        ax.scatter(plot_sentence[:, 0], plot_sentence[:, 1], c='g', label='Sentence Embeddings', s=size*6, alpha=alpha)\n",
    "        ax.scatter(plot_position[:, 0], plot_position[:, 1], c='b', label='Position Embeddings', s=size, alpha=alpha)\n",
    "        ax.scatter(plot_input_token[:, 0], plot_input_token[:, 1], c='y', label='Input Token Embeddings', s=size, alpha=alpha)\n",
    "        ax.scatter(plot_output_token[:, 0], plot_output_token[:, 1], c='m', label='Output Token Embeddings', s=size, alpha=alpha)\n",
    "\n",
    "        ax.set_title(title)\n",
    "\n",
    "    ax.legend(bbox_to_anchor=(0.5, -0.15), loc='upper center')\n",
    "    plt.show()"
   ]
  },
  {
   "cell_type": "code",
   "execution_count": null,
   "metadata": {},
   "outputs": [
    {
     "data": {
      "image/png": "[encoded data removed]",
      "text/plain": [
       "<Figure size 1500x1000 with 4 Axes>"
      ]
     },
     "metadata": {},
     "output_type": "display_data"
    }
   ],
   "source": [
    "plot_embeddings([25, 50, 100])"
   ]
  },
  {
   "cell_type": "markdown",
   "metadata": {},
   "source": [
    "Note that the weights of lookup matrices of the three input embedding features were trained along with the transformer layers, so the positions we see were optimized along with the output embedding space.\n",
    "\n",
    "As expected, the input embedding tokens are represented in a similar area of embedding space as the three components that it's made of. Of those components, token embeddings seem to start off with the most variance in embedding space, with position embeddings in a tighter cluster. Interestingly, positional and token type embeddings do not take on their own spaces, but share the input embedding region that word embeddings use.\n",
    "\n",
    "The output embedding space however, seems to use a completely separate area of embedding space to represent the semantic and contextual information of the tokens."
   ]
  },
  {
   "cell_type": "markdown",
   "metadata": {},
   "source": [
    "## Housekeeping Code - Imports and Utility Functions"
   ]
  },
  {
   "cell_type": "code",
   "execution_count": 1,
   "metadata": {},
   "outputs": [
    {
     "name": "stderr",
     "output_type": "stream",
     "text": [
      "/home/codespace/.python/current/lib/python3.10/site-packages/tqdm/auto.py:21: TqdmWarning: IProgress not found. Please update jupyter and ipywidgets. See https://ipywidgets.readthedocs.io/en/stable/user_install.html\n",
      "  from .autonotebook import tqdm as notebook_tqdm\n",
      "2024-02-06 01:34:15.150450: E external/local_xla/xla/stream_executor/cuda/cuda_dnn.cc:9261] Unable to register cuDNN factory: Attempting to register factory for plugin cuDNN when one has already been registered\n",
      "2024-02-06 01:34:15.150583: E external/local_xla/xla/stream_executor/cuda/cuda_fft.cc:607] Unable to register cuFFT factory: Attempting to register factory for plugin cuFFT when one has already been registered\n",
      "2024-02-06 01:34:15.500197: E external/local_xla/xla/stream_executor/cuda/cuda_blas.cc:1515] Unable to register cuBLAS factory: Attempting to register factory for plugin cuBLAS when one has already been registered\n",
      "2024-02-06 01:34:16.175540: I tensorflow/core/platform/cpu_feature_guard.cc:182] This TensorFlow binary is optimized to use available CPU instructions in performance-critical operations.\n",
      "To enable the following instructions: AVX2 FMA, in other operations, rebuild TensorFlow with the appropriate compiler flags.\n",
      "2024-02-06 01:34:19.833453: W tensorflow/compiler/tf2tensorrt/utils/py_utils.cc:38] TF-TRT Warning: Could not find TensorRT\n"
     ]
    }
   ],
   "source": [
    "## Imports\n",
    "\n",
    "from typing import Union, List, Dict, Tuple\n",
    "import xml.etree.ElementTree as ET\n",
    "import requests\n",
    "import random\n",
    "import csv\n",
    "import json\n",
    "import os\n",
    "import requests\n",
    "from io import StringIO\n",
    "import spacy\n",
    "import datasets\n",
    "import numpy as np\n",
    "import pandas as pd\n",
    "import tensorflow as tf\n",
    "from datasets import load_dataset\n",
    "from collections import defaultdict\n",
    "import matplotlib.pyplot as plt\n",
    "from sklearn.decomposition import PCA\n",
    "from sklearn.manifold import TSNE\n",
    "import fasttext.util\n",
    "from transformers import AutoTokenizer, AutoModel\n",
    "import torch\n",
    "import psutil\n",
    "import pickle\n"
   ]
  },
  {
   "cell_type": "code",
   "execution_count": null,
   "metadata": {},
   "outputs": [],
   "source": [
    "## Utility Functions\n",
    "\n",
    "import sys\n",
    "from types import ModuleType, FunctionType\n",
    "from gc import get_referents\n",
    "\n",
    "# Custom objects know their class.\n",
    "# Function objects seem to know way too much, including modules.\n",
    "# Exclude modules as well.\n",
    "BLACKLIST = type, ModuleType, FunctionType\n",
    "\n",
    "def getsize(obj):\n",
    "    \"\"\"sum size of object & members.\"\"\"\n",
    "    if isinstance(obj, BLACKLIST):\n",
    "        raise TypeError('getsize() does not take argument of type: '+ str(type(obj)))\n",
    "    seen_ids = set()\n",
    "    size = 0\n",
    "    objects = [obj]\n",
    "    while objects:\n",
    "        need_referents = []\n",
    "        for obj in objects:\n",
    "            if not isinstance(obj, BLACKLIST) and id(obj) not in seen_ids:\n",
    "                seen_ids.add(id(obj))\n",
    "                size += sys.getsizeof(obj)\n",
    "                need_referents.append(obj)\n",
    "        objects = get_referents(*need_referents)\n",
    "    return size\n",
    "\n",
    "def crash():\n",
    "    # Get the CPU usage\n",
    "    cpu_usage = psutil.cpu_percent()\n",
    "    print(f'CPU usage: {cpu_usage}%')\n",
    "    # Get the memory usage\n",
    "    memory_usage = psutil.virtual_memory().percent\n",
    "    print(f'Memory usage: {memory_usage}%')"
   ]
  },
  {
   "cell_type": "markdown",
   "metadata": {},
   "source": [
    "## Data Understanding and Preprocessing\n",
    "\n",
    "I initially thought that a complete list of Spanish verbs would be readily accessable from multiple dictionary websites or sources. After some searching, this does not seem to be the case, but that means we get to practice more NLP!\n",
    "\n",
    "We will instead create a list of Spanish verbs by parsing verbs from a large Spanish corpus. We'll choose a corpus that focuses on modern Spanish to analyse verbs currently in use."
   ]
  },
  {
   "cell_type": "markdown",
   "metadata": {},
   "source": [
    "### Datasets from Hugging Face\n",
    "\n",
    "As well as models, Hugging Face hosts a vast [database](https://huggingface.co/datasets) of labelled and unlabelled datasets that can be added to by anyone. The database can be filtered by task, language, or size.\n",
    "\n",
    "Each dataset is indexed by its *dataset ID*, and is further divided into *configurations*, which are usually split along some feature (e.g., English, Spanish, etc.), and further divided into splits (tran, test, etc.). Each dataset comes with a dataset card, which shows the type, distribution, and some examples of each feature in the dataset.\n",
    "\n",
    "<u>Accessing and Dataset</u>\n",
    "\n",
    "A dataset can be accessed via Hugging Face's python library called `datasets`, or their REST API called [Dataset Server](https://huggingface.co/docs/datasets-server/index).\n",
    "\n",
    "The REST API allows one to search and index the dataset as well as get summary statistics without downloading the data. \n",
    "\n",
    "<u>Streaming a Dataset</u>\n",
    "\n",
    "Large datasets that cannot fit into memory can be streamed via both methods, although the the python library iterator returns a single instance at a time, whereas the API allows a max of 100 instances per call.\n",
    "\n",
    "In my speed tests I found the API to be faster for downloading many instances. Note that you can specify sharding configurations that might allow the python library method to surpass the REST API's 100 instance cap.\n",
    "\n",
    "<u>Working with Datasets</u>\n",
    "\n",
    "Hugging Face has their own dataset object machinery, as well as simple methods to convert to [PyTorch](https://huggingface.co/docs/datasets/v2.16.1/use_with_pytorch#data-loading) or [TensorFlow](https://huggingface.co/docs/datasets/v2.16.1/use_with_tensorflow#data-loading) dataset objects."
   ]
  },
  {
   "cell_type": "markdown",
   "metadata": {},
   "source": [
    "We will use Wikepedia's [Spanish corpus](https://huggingface.co/datasets/wikimedia/wikipedia/viewer/20231101.es), comprising all Spanish entries on Wikepedia's website.\n",
    "\n",
    "Lets get acquainted with the dataset."
   ]
  },
  {
   "cell_type": "code",
   "execution_count": 19,
   "metadata": {},
   "outputs": [],
   "source": [
    "def hf_dataset_summary(dataset: str, config: str, split: str) -> None:\n",
    "    \"\"\"\n",
    "    Prints a summary of the dataset's metadata.\n",
    "    \"\"\"\n",
    "    # Get Hugging Face API token\n",
    "    with open('apis.json', 'r') as f:\n",
    "        API_TOKEN = json.load(f).get('hugging_face')\n",
    "\n",
    "    base_url = \"https://datasets-server.huggingface.co/statistics\"\n",
    "    headers = {\"Authorization\": f\"Bearer {API_TOKEN}\"}\n",
    "    params = {\n",
    "        \"dataset\": dataset,\n",
    "        \"config\": config,\n",
    "        \"split\": split\n",
    "    }\n",
    "    response = requests.get(base_url, params=params, headers=headers)\n",
    "    if response.status_code != 200:\n",
    "        print(f\"Failed to retrieve dataset summary with status code '{response.status_code}': {response.text}\")\n",
    "    return response.json()\n"
   ]
  },
  {
   "cell_type": "code",
   "execution_count": 20,
   "metadata": {},
   "outputs": [
    {
     "name": "stdout",
     "output_type": "stream",
     "text": [
      "Failed to retrieve dataset summary with status code '501': {\"error\":\"Job manager crashed while running this job (missing heartbeats).\"}\n"
     ]
    },
    {
     "data": {
      "text/plain": [
       "{'error': 'Job manager crashed while running this job (missing heartbeats).'}"
      ]
     },
     "execution_count": 20,
     "metadata": {},
     "output_type": "execute_result"
    }
   ],
   "source": [
    "dataset = 'wikimedia/wikipedia'\n",
    "config = '20231101.es'\n",
    "split = 'train'\n",
    "hf_dataset_summary(dataset, config, split)"
   ]
  },
  {
   "cell_type": "markdown",
   "metadata": {},
   "source": [
    "Unfortunately the wikipedia dataset does not seem to [support](https://huggingface.co/docs/datasets-server/statistics#explore-statistics-over-split-data) this summary API operation. Below is an example of normal usage."
   ]
  },
  {
   "cell_type": "code",
   "execution_count": 34,
   "metadata": {},
   "outputs": [
    {
     "name": "stdout",
     "output_type": "stream",
     "text": [
      "Rows: 8551\n",
      "Column 'idx' has attributes ['nan_count', 'nan_proportion', 'min', 'max', 'mean', 'median', 'std', 'histogram']\n",
      "Column 'label' has attributes ['nan_count', 'nan_proportion', 'no_label_count', 'no_label_proportion', 'n_unique', 'frequencies']\n",
      "Column 'sentence' has attributes ['nan_count', 'nan_proportion', 'min', 'max', 'mean', 'median', 'std', 'histogram']\n"
     ]
    }
   ],
   "source": [
    "dataset = 'glue'\n",
    "config = 'cola'\n",
    "split = 'train'\n",
    "summary = hf_dataset_summary(dataset, config, split)\n",
    "print(f\"Rows: {summary['num_examples']}\")\n",
    "for col in summary['statistics']:\n",
    "    print(f\"Column '{col['column_name']}' has attributes {list(col['column_statistics'].keys())}\")"
   ]
  },
  {
   "cell_type": "code",
   "execution_count": 42,
   "metadata": {},
   "outputs": [
    {
     "data": {
      "text/plain": [
       "{'dataset_info': {'description': '',\n",
       "  'citation': '',\n",
       "  'homepage': '',\n",
       "  'license': '',\n",
       "  'features': {'id': {'dtype': 'string', '_type': 'Value'},\n",
       "   'url': {'dtype': 'string', '_type': 'Value'},\n",
       "   'title': {'dtype': 'string', '_type': 'Value'},\n",
       "   'text': {'dtype': 'string', '_type': 'Value'}},\n",
       "  'builder_name': 'parquet',\n",
       "  'dataset_name': 'wikipedia',\n",
       "  'config_name': '20231101.es',\n",
       "  'version': {'version_str': '0.0.0', 'major': 0, 'minor': 0, 'patch': 0},\n",
       "  'splits': {'train': {'name': 'train',\n",
       "    'num_bytes': 32483180986,\n",
       "    'num_examples': 1841155,\n",
       "    'dataset_name': None}},\n",
       "  'download_size': 3493595869,\n",
       "  'dataset_size': 32483180986},\n",
       " 'partial': False}"
      ]
     },
     "execution_count": 42,
     "metadata": {},
     "output_type": "execute_result"
    }
   ],
   "source": [
    "def hf_dataset_info(dataset: str, config: str, split: str) -> None:\n",
    "    \"\"\"\n",
    "    Prints info of the dataset's metadata.\n",
    "    \"\"\"\n",
    "    # Get Hugging Face API token\n",
    "    with open('apis.json', 'r') as f:\n",
    "        API_TOKEN = json.load(f).get('hugging_face')\n",
    "\n",
    "    base_url = \"https://datasets-server.huggingface.co/info\"\n",
    "    headers = {\"Authorization\": f\"Bearer {API_TOKEN}\"}\n",
    "    params = {\n",
    "        \"dataset\": dataset,\n",
    "        \"config\": config,\n",
    "        \"split\": split\n",
    "    }\n",
    "    response = requests.get(base_url, params=params, headers=headers)\n",
    "    if response.status_code != 200:\n",
    "        print(f\"Failed to retrieve dataset summary with status code '{response.status_code}': {response.text}\")\n",
    "    return response.json()\n",
    "\n",
    "dataset = 'wikimedia/wikipedia'\n",
    "config = '20231101.es'\n",
    "split = 'train'\n",
    "hf_dataset_info(dataset, config, split)"
   ]
  },
  {
   "cell_type": "markdown",
   "metadata": {},
   "source": [
    "The dataset is quite large (32Gb), so we won't be able to store it locally or load it all into memory; any processing will have to be done iteratively.\n",
    "\n",
    "Of the four features, `text` is the only useful one for us. Lets see how large each text is."
   ]
  },
  {
   "cell_type": "code",
   "execution_count": 44,
   "metadata": {},
   "outputs": [],
   "source": [
    "def iter_hf_corpus(batch_size: int = 100, offset: int = 0) -> List[str]:\n",
    "    \"\"\"\n",
    "    Returns an iterable that retrieves a list of sentences\n",
    "    from the wikipedia's spanish dataset on HuggingFace.\n",
    "        Once the end of the dataset is reached, it will return an empty list []\n",
    "        for every subsequent call.\n",
    "    \"\"\"\n",
    "    dataset = 'wikimedia/wikipedia'\n",
    "    config_name = '20231101.es'\n",
    "    split = 'train'\n",
    "\n",
    "    base_url = \"https://datasets-server.huggingface.co/rows\"\n",
    "\n",
    "    batch_size = min(batch_size, 100) # Max batch_size is 100\n",
    "\n",
    "    while True:\n",
    "        params = {\n",
    "            \"dataset\": dataset,\n",
    "            \"config\": config_name,\n",
    "            \"split\": split,\n",
    "            \"offset\": offset,\n",
    "            \"length\": batch_size\n",
    "        }\n",
    "        response = requests.get(base_url, params=params)\n",
    "        data = response.json()\n",
    "\n",
    "        results = [instance[\"row\"][\"text\"] for instance in data[\"rows\"]]\n",
    "        yield results\n",
    "\n",
    "        offset += batch_size"
   ]
  },
  {
   "cell_type": "code",
   "execution_count": 48,
   "metadata": {},
   "outputs": [
    {
     "name": "stdout",
     "output_type": "stream",
     "text": [
      "count      1000.000000\n",
      "mean      17203.568000\n",
      "std       25786.696636\n",
      "min         110.000000\n",
      "25%        2376.750000\n",
      "50%        7436.500000\n",
      "75%       20818.000000\n",
      "max      226923.000000\n",
      "dtype: float64\n"
     ]
    },
    {
     "data": {
      "text/plain": [
       "<Axes: >"
      ]
     },
     "execution_count": 48,
     "metadata": {},
     "output_type": "execute_result"
    },
    {
     "data": {
      "image/png": "[encoded data removed]",
      "text/plain": [
       "<Figure size 640x480 with 1 Axes>"
      ]
     },
     "metadata": {},
     "output_type": "display_data"
    }
   ],
   "source": [
    "corpus_iterator = iter_hf_corpus()\n",
    "text_lengths = []\n",
    "\n",
    "for _ in range(10):\n",
    "    text_lengths.extend([len(text) for text in next(corpus_iterator)])\n",
    "text_lengths_series = pd.Series(text_lengths)\n",
    "\n",
    "print(text_lengths_series.describe())\n",
    "text_lengths_series.hist(bins=100)"
   ]
  },
  {
   "cell_type": "markdown",
   "metadata": {},
   "source": [
    "Each text is quite long, likely a full article instead of a single sentence. Later on we'll want to pass the texts through context-dependent models, which have max input sequence sizes, so we'll have to divide the text into smaller pieces.\n",
    "\n",
    "As well, since we are interested in verbs we will need a method for differentiting verbs from other words. To do this, we can use a **Parts of Speech** (**POS**) tagging model, which labels each word with its POS: noun, verb, adjective, etc. POS models can be rule based or stochastic / machine learning based. A few good POS models for the Spanish language are listed in Resources. We will use stochastic-based model as they are better able to handle ambiguity."
   ]
  },
  {
   "cell_type": "markdown",
   "metadata": {},
   "source": [
    "### Parts-of-Speech Tagging by SpaCy\n",
    "\n",
    "SpaCy is a NLP library designed for production use. It provides out-of-the-box models, as well as a library for training models and preparing them for productions."
   ]
  },
  {
   "cell_type": "markdown",
   "metadata": {},
   "source": [
    "Lets write a function to load a SpaCy model and another to perform POS on a text input and format the output."
   ]
  },
  {
   "cell_type": "code",
   "execution_count": 4,
   "metadata": {},
   "outputs": [],
   "source": [
    "def get_spacy_pos_lem(model_type: str = \"medium\") -> spacy.language.Language:\n",
    "    \"\"\"\n",
    "    Loads a SpaCy model for Spanish that performs:\n",
    "    - Tokenization\n",
    "    - Parts of speech tagging\n",
    "    - Dependency parcing\n",
    "    - Lemmatization\n",
    "    and disables the named entity recognition (NER) part of the model.\n",
    "    \"\"\"\n",
    "    models = {\n",
    "        \"small\": \"es_core_news_sm\",\n",
    "        \"medium\": \"es_core_news_md\",\n",
    "        \"large\": \"es_core_news_lg\",\n",
    "        \"transformer\": \"es_dep_news_trf\"}\n",
    "\n",
    "    ## Check if model argument is valid\n",
    "    try:\n",
    "        model_name = models[model_type]\n",
    "    except KeyError:\n",
    "        raise ValueError(\"Invalid model name. Choose from 'small', 'medium', 'large', or 'transformer'.\")\n",
    "\n",
    "    ## Get model and download model if not installed\n",
    "    while True:\n",
    "        try:\n",
    "            model = spacy.load(model_name, disable=[\"ner\"])\n",
    "            break\n",
    "        except OSError:\n",
    "            print(f\"Installing Spacy model '{model_name}'\")\n",
    "            spacy.cli.download(model_name)\n",
    "    return model\n",
    "\n",
    "\n",
    "def spacy_pos_tagger(\n",
    "    data: Union[List[str], str],\n",
    "    model_type: Union[str, spacy.language.Language]) -> np.array:\n",
    "    \"\"\"\n",
    "    Tags a text with the Part of Speech (POS) and infinitive verb of each word.\n",
    "\n",
    "    Returns:\n",
    "    - A numpy array with the following columns:\n",
    "        - text: The word itself\n",
    "        - pos: The part of speech of the word. E.g. VERB, NOUN, ADJ, etc.\n",
    "        - lemma: The infinitive verb of the word. E.g., comer, nadar, etc.\n",
    "    \"\"\"\n",
    "    ## Get SpaCy model\n",
    "    if isinstance(model, str):\n",
    "        model = get_spacy_pos_lem(model_type)\n",
    "\n",
    "    ## Clean input text\n",
    "    if not isinstance(data, list):\n",
    "        docs = [model(data)]\n",
    "    else:\n",
    "        docs = model.pipe(data) # uses SpaCy's internal batching\n",
    "\n",
    "    pos = [[token.text, token.pos_, token.lemma_] for doc in docs for token in doc]\n",
    "    return pd.DataFrame(pos, columns=[\"word\", \"pos\", \"lemma\"])"
   ]
  },
  {
   "cell_type": "markdown",
   "metadata": {},
   "source": [
    "SpaCy's [docs](https://spacy.io/models/es) state a POS accuracy of 0.95 to 0.99, depending on the model. Before we use the model to create a dataset of verbs, lets confirm the model's performance using a small pre-made list of verbs as labels. I found two lists from github users; we'll use Bret's list for now. \n",
    "\n",
    "Lets inspect our dataset of labels."
   ]
  },
  {
   "cell_type": "code",
   "execution_count": null,
   "metadata": {},
   "outputs": [],
   "source": [
    "def get_verbs_bret() -> List:\n",
    "    # Send a GET request to fetch the XML content\n",
    "    url = \"https://raw.githubusercontent.com/bretttolbert/verbecc/main/verbecc/data/verbs-es.xml\"\n",
    "    response = requests.get(url)\n",
    "\n",
    "    # Parse the XML content\n",
    "    xml_content = response.content\n",
    "    root = ET.fromstring(xml_content)\n",
    "\n",
    "    # Parse verbs from xml content\n",
    "    verb_elements = root.findall(\".//v\")\n",
    "    verbs = [v.find(\"i\").text for v in verb_elements]\n",
    "    return verbs\n",
    "\n",
    "\n",
    "def get_verbs_ghid() -> List:\n",
    "    \"\"\"\n",
    "    Retrieves a list of verbs and definitions from ghidinelli's fred-jehle-spanish-verbs project.\n",
    "\n",
    "    Returns:\n",
    "    - A list of verbs.\n",
    "    \"\"\"\n",
    "    verbs = []\n",
    "\n",
    "    # Fetch CSV contents\n",
    "    url = 'https://raw.githubusercontent.com/ghidinelli/fred-jehle-spanish-verbs/master/jehle_verb_database.csv'\n",
    "    response = requests.get(url)\n",
    "    file = StringIO(response.text)\n",
    "    reader = csv.reader(file)\n",
    "\n",
    "    # Parse verbs from csv contents\n",
    "    next(reader)  # Skip the header row\n",
    "    for row in reader:\n",
    "        verb = row[0]\n",
    "        definition = row[1] # In case I want these\n",
    "        verbs.append(verb)\n",
    "\n",
    "    verbs = list(set(verbs)) # Remove duplicates\n",
    "    return verbs\n",
    "\n",
    "\n",
    "def premade_verb_list(source: str = 'bret') -> List:\n",
    "    \"\"\"\n",
    "    Retrieves a list of verbs from one of the premade sources.\n",
    "\n",
    "    Returns:\n",
    "    - A list of verbs.\n",
    "    \"\"\"\n",
    "    if source == 'bret':\n",
    "        return get_verbs_bret()\n",
    "    elif source == 'ghid':\n",
    "        return get_verbs_ghid()\n",
    "    else:\n",
    "        raise ValueError(\"source must be one of ['bret', 'ghid']\")"
   ]
  },
  {
   "cell_type": "code",
   "execution_count": null,
   "metadata": {},
   "outputs": [
    {
     "data": {
      "text/plain": [
       "['bojear',\n",
       " 'acantilar',\n",
       " 'eterizar',\n",
       " 'calabrotar',\n",
       " 'ambular',\n",
       " 'traspapelar',\n",
       " 'usurar',\n",
       " 'enjardinar',\n",
       " 'altivar',\n",
       " 'averiguar']"
      ]
     },
     "metadata": {},
     "output_type": "display_data"
    }
   ],
   "source": [
    "verbs = premade_verb_list()\n",
    "random.sample(verbs, 10)"
   ]
  },
  {
   "cell_type": "markdown",
   "metadata": {},
   "source": [
    "Lets see how well SpaCy's models perform POS on the premade list. Note two weaknesses of our test dataset:\n",
    "- Only samples the infinitive conjugation tense of verbs.\n",
    "- Instances are single words instead of sentences. POS models often perform better with context."
   ]
  },
  {
   "cell_type": "code",
   "execution_count": null,
   "metadata": {},
   "outputs": [
    {
     "data": {
      "text/html": [
       "<div>\n",
       "<style scoped>\n",
       "    .dataframe tbody tr th:only-of-type {\n",
       "        vertical-align: middle;\n",
       "    }\n",
       "\n",
       "    .dataframe tbody tr th {\n",
       "        vertical-align: top;\n",
       "    }\n",
       "\n",
       "    .dataframe thead th {\n",
       "        text-align: right;\n",
       "    }\n",
       "</style>\n",
       "<table border=\"1\" class=\"dataframe\">\n",
       "  <thead>\n",
       "    <tr style=\"text-align: right;\">\n",
       "      <th></th>\n",
       "      <th>word</th>\n",
       "    </tr>\n",
       "    <tr>\n",
       "      <th>pos</th>\n",
       "      <th></th>\n",
       "    </tr>\n",
       "  </thead>\n",
       "  <tbody>\n",
       "    <tr>\n",
       "      <th>VERB</th>\n",
       "      <td>94.98</td>\n",
       "    </tr>\n",
       "    <tr>\n",
       "      <th>NOUN</th>\n",
       "      <td>1.98</td>\n",
       "    </tr>\n",
       "    <tr>\n",
       "      <th>PROPN</th>\n",
       "      <td>1.42</td>\n",
       "    </tr>\n",
       "    <tr>\n",
       "      <th>ADJ</th>\n",
       "      <td>1.35</td>\n",
       "    </tr>\n",
       "    <tr>\n",
       "      <th>AUX</th>\n",
       "      <td>0.14</td>\n",
       "    </tr>\n",
       "    <tr>\n",
       "      <th>ADV</th>\n",
       "      <td>0.06</td>\n",
       "    </tr>\n",
       "    <tr>\n",
       "      <th>NUM</th>\n",
       "      <td>0.03</td>\n",
       "    </tr>\n",
       "    <tr>\n",
       "      <th>ADP</th>\n",
       "      <td>0.01</td>\n",
       "    </tr>\n",
       "    <tr>\n",
       "      <th>INTJ</th>\n",
       "      <td>0.01</td>\n",
       "    </tr>\n",
       "    <tr>\n",
       "      <th>PRON</th>\n",
       "      <td>0.01</td>\n",
       "    </tr>\n",
       "    <tr>\n",
       "      <th>PUNCT</th>\n",
       "      <td>0.01</td>\n",
       "    </tr>\n",
       "  </tbody>\n",
       "</table>\n",
       "</div>"
      ],
      "text/plain": [
       "        word\n",
       "pos         \n",
       "VERB   94.98\n",
       "NOUN    1.98\n",
       "PROPN   1.42\n",
       "ADJ     1.35\n",
       "AUX     0.14\n",
       "ADV     0.06\n",
       "NUM     0.03\n",
       "ADP     0.01\n",
       "INTJ    0.01\n",
       "PRON    0.01\n",
       "PUNCT   0.01"
      ]
     },
     "metadata": {},
     "output_type": "display_data"
    }
   ],
   "source": [
    "pos_df = spacy_pos_tagger(verbs, spacy.load('es_core_news_md'))\n",
    "counts = pos_df[['pos', 'word']].groupby('pos').count()\n",
    "counts = (counts * 100 /counts.sum()).round(2).sort_values('word', ascending=False)\n",
    "counts"
   ]
  },
  {
   "cell_type": "markdown",
   "metadata": {},
   "source": [
    "The 0.95 accuracy is close to the stated 0.98 for the medium size model. The difference may be due to:\n",
    "- rare verbs\n",
    "- a lack of context since the verbs are stand alone words\n",
    "- possibly some errors in bret's verb list; after some manual checking I found that some of the words do not exist on SpanishDict.com"
   ]
  },
  {
   "cell_type": "code",
   "execution_count": null,
   "metadata": {},
   "outputs": [
    {
     "data": {
      "text/plain": [
       "{'NOUN': ['pincelar', 'espinar', 'tamborilear', 'olivar', 'amollar'],\n",
       " 'PROPN': ['tesar', 'acreer', 'empeller', 'balkanizar', 'crenchar'],\n",
       " 'ADJ': ['retemblar', 'acriminar', 'enyerbar', 'envaronar', 'desmallar'],\n",
       " 'AUX': ['enalbar', 'podrir', 'quintaesenciar', 'amorriñar', 'haber'],\n",
       " 'ADV': ['astriñir', 'costriñir', 'gandujar', 'guañir', 'lamber', 'muñir'],\n",
       " 'NUM': ['desjarretar', 'esposar', 'reembolsar'],\n",
       " 'PUNCT': ['engurruñar'],\n",
       " 'PRON': ['gañir'],\n",
       " 'INTJ': ['lamer'],\n",
       " 'ADP': ['tractorar']}"
      ]
     },
     "metadata": {},
     "output_type": "display_data"
    }
   ],
   "source": [
    "mislabelled = {\n",
    "    pos: pos_df.loc[pos_df['pos'] == pos, 'lemma'].values.tolist() \\\n",
    "    for pos in pos_df['pos'].unique() if pos !='VERB'}\n",
    "sample = {\n",
    "    tag: (words if len(words) < 10 else random.sample(words, 5)) \\\n",
    "    for tag, words in mislabelled.items()}\n",
    "sample"
   ]
  },
  {
   "cell_type": "markdown",
   "metadata": {},
   "source": [
    "We can see that AUX is also being used for some verbs, as it contains the common verbs estar, haber, saber, and ser.\n",
    "Most of the verbs, however, seem very uncommon or simply not spanish words, so we'll move ahead with this POS model."
   ]
  },
  {
   "cell_type": "markdown",
   "metadata": {},
   "source": [
    "### Dataset Download and Parsing Speed Test \n",
    "Next we'll parse the Wikipedia Spanish corpus with our POS model to create list of modern-use Spanish verbs.\n",
    "\n",
    "It could be interesting to see how our embedding space analysis varies with more and less common verbs. For this we'll want to make a bag-of-words, which is simply a frequency count of each word in a corpus or document.\n",
    "\n",
    "The Wikipedia dataset is to large to fit in memory, so we'll stream the dataset in chunks, and apply the POS parsing and BOW counting in the same function to avoid iterating through the large dataset twice.\n",
    "\n",
    "As well, this corpus is quite large, so we'll speed test some methods for applying POS to the streaming iterable before trying to parse the whole corpus."
   ]
  },
  {
   "cell_type": "code",
   "execution_count": 9,
   "metadata": {},
   "outputs": [],
   "source": [
    "def hf_corpus_func() -> datasets.IterableDataset:\n",
    "    \"\"\"\n",
    "    Create's an iterable for the HuggingFace large_spanish_corpus dataset.\n",
    "        Streaming=True allows us to iterate over the dataset without loading it all into memory.\n",
    "    \"\"\"\n",
    "    dataset = 'large_spanish_corpus'\n",
    "    config_name = 'EUBookShop'\n",
    "    split = 'train'\n",
    "\n",
    "    dataset = load_dataset(\n",
    "        dataset, name=config_name, split=split,\n",
    "        streaming=True, trust_remote_code=True)\n",
    "    return iter(dataset)\n",
    "\n",
    "def hf_corpus_api(batch_size: int = 100, offset: int = 0) -> List[str]:\n",
    "    \"\"\"\n",
    "    Returns an iterable that retrieves a list of sentences\n",
    "    from the HuggingFace large_spanish_corpus dataset.\n",
    "        Once the end of the dataset is reached, it will return an empty list []\n",
    "        for every subsequent call.\n",
    "    \"\"\"\n",
    "    dataset = 'large_spanish_corpus'\n",
    "    config_name = 'EUBookShop'\n",
    "    split = 'train'\n",
    "\n",
    "    base_url = \"https://datasets-server.huggingface.co/rows\"\n",
    "\n",
    "    batch_size = min(batch_size, 100) # Max batch_size is 100\n",
    "\n",
    "    while True:\n",
    "        params = {\n",
    "            \"dataset\": dataset,\n",
    "            \"config\": config_name,\n",
    "            \"split\": split,\n",
    "            \"offset\": offset,\n",
    "            \"length\": batch_size\n",
    "        }\n",
    "        response = requests.get(base_url, params=params)\n",
    "        data = response.json()\n",
    "\n",
    "        results = [instance[\"row\"][\"text\"] for instance in data[\"rows\"]]\n",
    "        yield results\n",
    "\n",
    "        offset += batch_size\n",
    "\n",
    "\n",
    "def pos_speed_test(option: int, iterator: str, batch_size: int = 100, test_instances: int = 100):\n",
    "    \"\"\"\n",
    "    The test consists of two download methods and three POS processing methods.\n",
    "\n",
    "    Download methods:\n",
    "    - HuggingFace REST api\n",
    "    - HuggingFace python library\n",
    "\n",
    "    POS processing methods:\n",
    "    - Spacy's internal batching via .pipe()\n",
    "    - Combining instances into a single string; one sentence per instance.\n",
    "    - Simply processes each instance individually\n",
    "    \"\"\"\n",
    "    pos_model = get_spacy_pos_lem(\"medium\")\n",
    "\n",
    "    if iterator not in ['api', 'func']:\n",
    "        raise ValueError('Invalid iterator argument')\n",
    "\n",
    "    batch = []\n",
    "    results = []\n",
    "\n",
    "    instances_processed = 0\n",
    "\n",
    "    # Test process: using spacy's internal batching via .pipe()\n",
    "    if option == 1:\n",
    "        while True:\n",
    "\n",
    "            # Test download: HuggingFace REST api\n",
    "            if iterator == 'api':\n",
    "                corpus_iterator = hf_corpus_api(batch_size)\n",
    "                batch = next(corpus_iterator)\n",
    "\n",
    "            # Test download: HuggingFace python library\n",
    "            elif iterator == 'func':\n",
    "                corpus_iterator = hf_corpus_func()\n",
    "                for _ in range(batch_size):\n",
    "                    batch.append(next(corpus_iterator)['text'])\n",
    "\n",
    "            docs = pos_model.pipe(batch)\n",
    "            results.extend([[token.text, token.pos_, token.lemma_] for doc in docs for token in doc])\n",
    "\n",
    "            # Stop when we've processed the number of test instances\n",
    "            instances_processed += batch_size\n",
    "            if instances_processed >= test_instances:\n",
    "                break\n",
    "\n",
    "    # Test process: combining instances into a single string; one sentence per instance.\n",
    "    elif option == 2:\n",
    "        while True:\n",
    "\n",
    "            # Test download: HuggingFace REST api\n",
    "            if iterator == 'api':\n",
    "                corpus_iterator = hf_corpus_api(batch_size)\n",
    "                batch = next(corpus_iterator)\n",
    "\n",
    "            # Test download: HuggingFace python library\n",
    "            elif iterator == 'func':\n",
    "                corpus_iterator = hf_corpus_func()\n",
    "                for _ in range(batch_size):\n",
    "                    batch.append(next(corpus_iterator)['text'])\n",
    "\n",
    "            batch_text = ' .'.join(batch)\n",
    "            doc = pos_model(batch_text)\n",
    "            results.extend([[token.text, token.pos_, token.lemma_] for token in doc])\n",
    "\n",
    "            # Stop when we've processed the number of test instances\n",
    "            instances_processed += batch_size\n",
    "            if instances_processed >= test_instances:\n",
    "                break\n",
    "\n",
    "    # Test process: simply processes each instance individually\n",
    "    elif option == 3:\n",
    "        while True:\n",
    "\n",
    "            # Test download: HuggingFace REST api\n",
    "            if iterator == 'api':\n",
    "                corpus_iterator = hf_corpus_api(batch_size=1)\n",
    "                text = next(corpus_iterator)[0]\n",
    "                doc = pos_model(text)\n",
    "                results.extend([[token.text, token.pos_, token.lemma_] for token in doc])\n",
    "\n",
    "                # Stop when we've processed the number of test instances\n",
    "                instances_processed += 1\n",
    "                if instances_processed >= test_instances:\n",
    "                    break\n",
    "\n",
    "            # Test download: HuggingFace python library\n",
    "            elif iterator == 'func':\n",
    "                corpus_iterator = hf_corpus_func()\n",
    "                text = next(corpus_iterator)['text']\n",
    "                doc = pos_model(text)\n",
    "                results.extend([[token.text, token.pos_, token.lemma_] for token in doc])\n",
    "\n",
    "                # Stop when we've processed the number of test instances\n",
    "                instances_processed += 1\n",
    "                if instances_processed >= test_instances:\n",
    "                    break\n",
    "\n",
    "    return"
   ]
  },
  {
   "cell_type": "code",
   "execution_count": 5,
   "metadata": {},
   "outputs": [
    {
     "name": "stdout",
     "output_type": "stream",
     "text": [
      "1.75 s ± 128 ms per loop (mean ± std. dev. of 3 runs, 1 loop each)\n",
      "1.58 s ± 281 ms per loop (mean ± std. dev. of 3 runs, 1 loop each)\n",
      "\n"
     ]
    },
    {
     "name": "stderr",
     "output_type": "stream",
     "text": [
      "Downloading builder script: 100%|██████████| 3.93k/3.93k [00:00<00:00, 26.4MB/s]\n",
      "Downloading readme: 100%|██████████| 8.26k/8.26k [00:00<00:00, 14.1MB/s]\n"
     ]
    },
    {
     "name": "stdout",
     "output_type": "stream",
     "text": [
      "2.11 s ± 531 ms per loop (mean ± std. dev. of 3 runs, 1 loop each)\n",
      "1.84 s ± 51.9 ms per loop (mean ± std. dev. of 3 runs, 1 loop each)\n"
     ]
    }
   ],
   "source": [
    "%timeit -r 3 -n 1 pos_speed_test(1, 'api', 100)\n",
    "%timeit -r 3 -n 1 pos_speed_test(2, 'api', 100)\n",
    "# %timeit -r 3 -n 1 pos_speed_test(3, 'api', 100)\n",
    "print()\n",
    "%timeit -r 3 -n 1 pos_speed_test(1, 'func', 100)\n",
    "%timeit -r 3 -n 1 pos_speed_test(2, 'func', 100)\n",
    "# %timeit -r 3 -n 1 pos_speed_test(3, 'func', 100)"
   ]
  },
  {
   "cell_type": "code",
   "execution_count": 7,
   "metadata": {},
   "outputs": [
    {
     "name": "stdout",
     "output_type": "stream",
     "text": [
      "1.77 s ± 429 ms per loop (mean ± std. dev. of 3 runs, 1 loop each)\n",
      "1.37 s ± 48.8 ms per loop (mean ± std. dev. of 3 runs, 1 loop each)\n",
      "\n",
      "2.43 s ± 379 ms per loop (mean ± std. dev. of 3 runs, 1 loop each)\n",
      "1.95 s ± 216 ms per loop (mean ± std. dev. of 3 runs, 1 loop each)\n"
     ]
    }
   ],
   "source": [
    "%timeit -r 3 -n 1 pos_speed_test(1, 'api', 100)\n",
    "%timeit -r 3 -n 1 pos_speed_test(2, 'api', 100)\n",
    "# %timeit -r 3 -n 1 pos_speed_test(3, 'api', 100)\n",
    "print()\n",
    "%timeit -r 3 -n 1 pos_speed_test(1, 'func', 100)\n",
    "%timeit -r 3 -n 1 pos_speed_test(2, 'func', 100)\n",
    "# %timeit -r 3 -n 1 pos_speed_test(3, 'func', 100)"
   ]
  },
  {
   "cell_type": "code",
   "execution_count": 10,
   "metadata": {},
   "outputs": [
    {
     "name": "stdout",
     "output_type": "stream",
     "text": [
      "1.61 s ± 153 ms per loop (mean ± std. dev. of 3 runs, 1 loop each)\n",
      "1.87 s ± 779 ms per loop (mean ± std. dev. of 3 runs, 1 loop each)\n",
      "\n",
      "1.81 s ± 23.4 ms per loop (mean ± std. dev. of 3 runs, 1 loop each)\n",
      "2.39 s ± 703 ms per loop (mean ± std. dev. of 3 runs, 1 loop each)\n"
     ]
    }
   ],
   "source": [
    "%timeit -r 3 -n 1 pos_speed_test(1, 'api', 100)\n",
    "%timeit -r 3 -n 1 pos_speed_test(2, 'api', 100)\n",
    "# %timeit -r 3 -n 1 pos_speed_test(3, 'api', 100)\n",
    "print()\n",
    "%timeit -r 3 -n 1 pos_speed_test(1, 'func', 100)\n",
    "%timeit -r 3 -n 1 pos_speed_test(2, 'func', 100)\n",
    "# %timeit -r 3 -n 1 pos_speed_test(3, 'func', 100)"
   ]
  },
  {
   "cell_type": "markdown",
   "metadata": {},
   "source": [
    "Downloading in batches is much faster than requesting instances one at a time via the python function.\n",
    "\n",
    "As well, streaming the instances to SpaCy's model via [language.pipe](https://spacy.io/api/language#pipe) is comparable to processing them as a single text, and comes with the benefit of keeping instances separate (which is mandatory in most NLP use cases), so we'll go with that method."
   ]
  },
  {
   "cell_type": "markdown",
   "metadata": {},
   "source": [
    "### Calculate Embeddings\n",
    "\n",
    "______\n",
    "Now that we have a solid list of common day Spanish verbs, we can explore their representation in embedding space of some pre-trained NLP models.\n",
    "_______\n",
    "\n",
    "One of the word embedding models we will use are transformer models, which are quite complex instruments, so I've written a section clarifying how data flows through a transformer to go from text to semantic and contextual embeddings, which you can find in the [Terminology and Background Info](##Terminology-and-Background-Info) section. "
   ]
  },
  {
   "cell_type": "code",
   "execution_count": null,
   "metadata": {},
   "outputs": [],
   "source": []
  },
  {
   "cell_type": "code",
   "execution_count": null,
   "metadata": {},
   "outputs": [],
   "source": []
  },
  {
   "cell_type": "markdown",
   "metadata": {},
   "source": [
    "### OLD - Get Verb Data\n",
    "\n",
    "We start with a list of sentences.\n",
    "\n",
    "We want a few things:\n",
    "- List of verbs; need POS tagger\n",
    "- Ability to identify conjugated verbs with their infinitive; need lemmatizer\n",
    "- Every sentence that contains the verb or one of its conjugations\n",
    "- The start and end character position of the verb or its conjugation in the sentence.\n",
    "- The ability to note the position of a verb or its conjugation multiple times in the same sentence.\n",
    "\n",
    "The POS tagger we will use is SpaCy\n",
    "The lemmatizer we will use is SpaCY\n",
    "\n",
    "The corpus is large, so we will want to iterate through it only once. What this looks like with our function processes is:"
   ]
  },
  {
   "cell_type": "code",
   "execution_count": 2,
   "metadata": {},
   "outputs": [],
   "source": [
    "def iter_hf_corpus(batch_size: int = 100, offset: int = 0) -> List[str]:\n",
    "    \"\"\"\n",
    "    Returns an iterable that retrieves a list of sentences\n",
    "    from the wikipedia's spanish dataset on HuggingFace.\n",
    "        Once the end of the dataset is reached, it will return an empty list []\n",
    "        for every subsequent call.\n",
    "    \"\"\"\n",
    "    dataset = 'wikimedia/wikipedia'\n",
    "    config_name = '20231101.es'\n",
    "    split = 'train'\n",
    "\n",
    "    base_url = \"https://datasets-server.huggingface.co/rows\"\n",
    "\n",
    "    batch_size = min(batch_size, 100) # Max batch_size is 100\n",
    "\n",
    "    while True:\n",
    "        params = {\n",
    "            \"dataset\": dataset,\n",
    "            \"config\": config_name,\n",
    "            \"split\": split,\n",
    "            \"offset\": offset,\n",
    "            \"length\": batch_size\n",
    "        }\n",
    "        response = requests.get(base_url, params=params)\n",
    "        data = response.json()\n",
    "\n",
    "        results = [instance[\"row\"][\"text\"] for instance in data[\"rows\"]]\n",
    "        yield results\n",
    "\n",
    "        offset += batch_size\n",
    "\n",
    "\n",
    "def get_lemma_and_pos(doc: spacy.tokens.doc.Doc) -> Dict[str, List[Tuple[int, int]]]:\n",
    "    \"\"\"\n",
    "    For a single text sample, returns a list of infinitive verbs and the\n",
    "    inclusive-start index and exclusive-end index positions of each instance of\n",
    "    that verb's conjugations and infinitive.\n",
    "    \"\"\"\n",
    "    lemma_and_pos = defaultdict(list)\n",
    "    for token in doc:\n",
    "        if token.pos_ == 'VERB':\n",
    "            lemma_and_pos[token.lemma_].append((token.idx, token.idx + len(token)))\n",
    "    return lemma_and_pos\n",
    "\n",
    "\n",
    "def get_verb_data(max_samples: int = float('inf')) -> Dict[str, Union[List[str], List[Tuple[int, int]]]]:\n",
    "\n",
    "    batch_size = 100 # max batch size for Hugging Face API is 100\n",
    "    current_samples = 0\n",
    "\n",
    "    corpus_iterator = iter_hf_corpus(batch_size=batch_size)\n",
    "    spacy_model = get_spacy_pos_lem('medium')\n",
    "\n",
    "    verb_data = defaultdict(lambda: defaultdict(list))\n",
    "\n",
    "\n",
    "    while True:\n",
    "\n",
    "        # Download data from Hugging Face API\n",
    "        batch_text = next(corpus_iterator)\n",
    "\n",
    "        # Empty list indicates end of dataset\n",
    "        if not batch_text:\n",
    "            break\n",
    "\n",
    "        # SpaCy model applies POS tagging and lemmatization\n",
    "        docs = spacy_model.pipe(batch_text)\n",
    "\n",
    "        for doc in docs:\n",
    "\n",
    "            # For each verb in the text sample, find the positions of the verb's conjugations\n",
    "            lemma_and_pos = get_lemma_and_pos(doc)\n",
    "\n",
    "            for infinitive, positions in lemma_and_pos.items():\n",
    "                verb_data[infinitive]['texts'].append(doc.text)\n",
    "                verb_data[infinitive]['positions'].append(positions)\n",
    "\n",
    "        # Code for partial download and processing of dataset\n",
    "\n",
    "        current_samples += batch_size\n",
    "        if current_samples >= max_samples:\n",
    "            break\n",
    "\n",
    "    return verb_data"
   ]
  },
  {
   "cell_type": "code",
   "execution_count": 5,
   "metadata": {},
   "outputs": [],
   "source": [
    "x = get_verb_data(max_samples=10000)"
   ]
  },
  {
   "cell_type": "markdown",
   "metadata": {},
   "source": [
    "#### FastText"
   ]
  },
  {
   "cell_type": "code",
   "execution_count": 2,
   "metadata": {},
   "outputs": [],
   "source": [
    "# Fasttext Model\n",
    "\n",
    "def get_fasttext():\n",
    "    model_filename = 'cc.es.300.bin'\n",
    "    fasttext.util.download_model('es', if_exists='ignore')\n",
    "    return fasttext.load_model(model_filename)\n",
    "\n",
    "def fasttext_no_context(verb_data: Dict[str, Dict], model: fasttext.FastText._FastText = None) -> Dict[str, List[int]]:\n",
    "    \"\"\"\n",
    "    Gets the word embeddings for a dict of words as keys.\n",
    "\n",
    "    Parameters:\n",
    "        verb_data (dict):\n",
    "            A dictionary where each key is a verb (str); values are not used.\n",
    "        model:\n",
    "            A fasttext model. If None, the function will download the fasttext model.\n",
    "\n",
    "    Returns:\n",
    "        returns (dict):\n",
    "            A dictionary where each key is a verb (str) from the input dictionary and each value is\n",
    "            the embedding vector for the verb.\n",
    "    \"\"\"\n",
    "    # Function implementation goes here\n",
    "    if not model:\n",
    "        model = get_fasttext()\n",
    "\n",
    "    embeddings = {}\n",
    "    for verb in verb_data.keys():\n",
    "        embeddings[verb] = model.get_word_vector(verb)\n",
    "\n",
    "    return embeddings\n"
   ]
  },
  {
   "cell_type": "code",
   "execution_count": 3,
   "metadata": {},
   "outputs": [
    {
     "name": "stderr",
     "output_type": "stream",
     "text": [
      "Warning : `load_model` does not return WordVectorModel or SupervisedModel any more, but a `FastText` object which is very similar.\n"
     ]
    },
    {
     "ename": "KeyboardInterrupt",
     "evalue": "",
     "output_type": "error",
     "traceback": [
      "\u001b[0;31m---------------------------------------------------------------------------\u001b[0m",
      "\u001b[0;31mKeyboardInterrupt\u001b[0m                         Traceback (most recent call last)",
      "Cell \u001b[0;32mIn[3], line 1\u001b[0m\n\u001b[0;32m----> 1\u001b[0m \u001b[43mget_fasttext\u001b[49m\u001b[43m(\u001b[49m\u001b[43m)\u001b[49m\n",
      "Cell \u001b[0;32mIn[2], line 6\u001b[0m, in \u001b[0;36mget_fasttext\u001b[0;34m()\u001b[0m\n\u001b[1;32m      4\u001b[0m model_filename \u001b[38;5;241m=\u001b[39m \u001b[38;5;124m'\u001b[39m\u001b[38;5;124mcc.es.300.bin\u001b[39m\u001b[38;5;124m'\u001b[39m\n\u001b[1;32m      5\u001b[0m fasttext\u001b[38;5;241m.\u001b[39mutil\u001b[38;5;241m.\u001b[39mdownload_model(\u001b[38;5;124m'\u001b[39m\u001b[38;5;124mes\u001b[39m\u001b[38;5;124m'\u001b[39m, if_exists\u001b[38;5;241m=\u001b[39m\u001b[38;5;124m'\u001b[39m\u001b[38;5;124mignore\u001b[39m\u001b[38;5;124m'\u001b[39m)\n\u001b[0;32m----> 6\u001b[0m \u001b[38;5;28;01mreturn\u001b[39;00m \u001b[43mfasttext\u001b[49m\u001b[38;5;241;43m.\u001b[39;49m\u001b[43mload_model\u001b[49m\u001b[43m(\u001b[49m\u001b[43mmodel_filename\u001b[49m\u001b[43m)\u001b[49m\n",
      "File \u001b[0;32m~/.python/current/lib/python3.10/site-packages/fasttext/FastText.py:441\u001b[0m, in \u001b[0;36mload_model\u001b[0;34m(path)\u001b[0m\n\u001b[1;32m    439\u001b[0m \u001b[38;5;250m\u001b[39m\u001b[38;5;124;03m\"\"\"Load a model given a filepath and return a model object.\"\"\"\u001b[39;00m\n\u001b[1;32m    440\u001b[0m eprint(\u001b[38;5;124m\"\u001b[39m\u001b[38;5;124mWarning : `load_model` does not return WordVectorModel or SupervisedModel any more, but a `FastText` object which is very similar.\u001b[39m\u001b[38;5;124m\"\u001b[39m)\n\u001b[0;32m--> 441\u001b[0m \u001b[38;5;28;01mreturn\u001b[39;00m \u001b[43m_FastText\u001b[49m\u001b[43m(\u001b[49m\u001b[43mmodel_path\u001b[49m\u001b[38;5;241;43m=\u001b[39;49m\u001b[43mpath\u001b[49m\u001b[43m)\u001b[49m\n",
      "File \u001b[0;32m~/.python/current/lib/python3.10/site-packages/fasttext/FastText.py:98\u001b[0m, in \u001b[0;36m_FastText.__init__\u001b[0;34m(self, model_path, args)\u001b[0m\n\u001b[1;32m     96\u001b[0m \u001b[38;5;28mself\u001b[39m\u001b[38;5;241m.\u001b[39mf \u001b[38;5;241m=\u001b[39m fasttext\u001b[38;5;241m.\u001b[39mfasttext()\n\u001b[1;32m     97\u001b[0m \u001b[38;5;28;01mif\u001b[39;00m model_path \u001b[38;5;129;01mis\u001b[39;00m \u001b[38;5;129;01mnot\u001b[39;00m \u001b[38;5;28;01mNone\u001b[39;00m:\n\u001b[0;32m---> 98\u001b[0m     \u001b[38;5;28;43mself\u001b[39;49m\u001b[38;5;241;43m.\u001b[39;49m\u001b[43mf\u001b[49m\u001b[38;5;241;43m.\u001b[39;49m\u001b[43mloadModel\u001b[49m\u001b[43m(\u001b[49m\u001b[43mmodel_path\u001b[49m\u001b[43m)\u001b[49m\n\u001b[1;32m     99\u001b[0m \u001b[38;5;28mself\u001b[39m\u001b[38;5;241m.\u001b[39m_words \u001b[38;5;241m=\u001b[39m \u001b[38;5;28;01mNone\u001b[39;00m\n\u001b[1;32m    100\u001b[0m \u001b[38;5;28mself\u001b[39m\u001b[38;5;241m.\u001b[39m_labels \u001b[38;5;241m=\u001b[39m \u001b[38;5;28;01mNone\u001b[39;00m\n",
      "\u001b[0;31mKeyboardInterrupt\u001b[0m: "
     ]
    }
   ],
   "source": [
    "get_fasttext()"
   ]
  },
  {
   "cell_type": "markdown",
   "metadata": {},
   "source": [
    "#### SpaCy"
   ]
  },
  {
   "cell_type": "code",
   "execution_count": 49,
   "metadata": {},
   "outputs": [],
   "source": [
    "def get_spacy_tok2vec(model_type: str = \"medium\") -> spacy.language.Language:\n",
    "    \"\"\"\n",
    "    Loads a SpaCy model for Spanish that performs tokenization and word\n",
    "    embedding via the tok2vec layer, and disables, the other model components\n",
    "    for faster processing of word embeddings.\n",
    "    \"\"\"\n",
    "    models = {\n",
    "        \"small\": \"es_core_news_sm\",\n",
    "        \"medium\": \"es_core_news_md\",\n",
    "        \"large\": \"es_core_news_lg\",\n",
    "        \"transformer\": \"es_dep_news_trf\"}\n",
    "\n",
    "    # tok2vec only is 20% faster\n",
    "    disable_list = [\"morphologizer\", \"parser\", \"senter\", \"attribute_ruler\", \"lemmatizer\", \"ner\"]\n",
    "\n",
    "    ## Check if model argument is valid\n",
    "    try:\n",
    "        model_name = models[model_type]\n",
    "    except KeyError:\n",
    "        raise ValueError(\"Invalid model name. Choose from 'small', 'medium', 'large', or 'transformer'.\")\n",
    "\n",
    "    ## Get model and download model if not installed\n",
    "    while True:\n",
    "        try:\n",
    "            model = spacy.load(model_name, disable=disable_list)\n",
    "            break\n",
    "        except OSError:\n",
    "            print(f\"Installing Spacy model '{model_name}'\")\n",
    "            spacy.cli.download(model_name)\n",
    "    return model"
   ]
  },
  {
   "cell_type": "code",
   "execution_count": 15,
   "metadata": {},
   "outputs": [],
   "source": [
    "def spacy_no_context(verb_data: Dict[str, Dict], model_type: str = 'medium') -> Dict[str, List[int]]:\n",
    "    \"\"\"\n",
    "    Gets the word embeddings for a dict of words as keys.\n",
    "        Note that this function returns the embedding representation\n",
    "        of each element in the list. The elements are meant to be words.\n",
    "        If an element is more than one word, the returned vector will be\n",
    "        for that sentence.\n",
    "\n",
    "    Parameters:\n",
    "        verb_data (dict):\n",
    "            A dictionary where each key is a verb (str); values are not used.\n",
    "        model_type:\n",
    "            A string corresponding to the SpaCy model to load.\n",
    "            One of ['small', 'medium', 'large', 'transformer'].\n",
    "    Returns:\n",
    "        returns (dict):\n",
    "            A dictionary where each key is a verb (str) from the input dictionary and each value is\n",
    "            the embedding vector for the verb.\n",
    "    \"\"\"\n",
    "    model = get_spacy_tok2vec(model_type)\n",
    "\n",
    "    verbs = list(verb_data.keys())\n",
    "    docs = model.pipe(verbs)\n",
    "\n",
    "    if model_type == 'transformer':\n",
    "        # Can use doc._.trf_data.all_outputs[0].dataXd\n",
    "        # Or use doc._.trf_data.last_hidden_layer_state.data\n",
    "        embeddings = {doc._.trf_data.last_hidden_layer_state.data[0] for doc in docs}\n",
    "    else:\n",
    "        embeddings = {doc.text: doc.vector for doc in docs}\n",
    "    return embeddings"
   ]
  },
  {
   "cell_type": "code",
   "execution_count": 16,
   "metadata": {},
   "outputs": [],
   "source": [
    "def spacy_cnn_word_embedding_from_token_embeddings(\n",
    "    doc: spacy.tokens.Doc, word_range: Tuple[int, int]\n",
    "    ) -> np.array:\n",
    "    \"\"\"\n",
    "    Given a SpaCy doc object for a sentence, and the inclusive-start index and exclusive-end index\n",
    "    of a word in that sentence, the function finds the tokens that represent the word, and returns\n",
    "    the sum of their embeddings.\n",
    "\n",
    "    Parameters:\n",
    "        doc:\n",
    "            A SpaCy Doc object.\n",
    "        word_range:\n",
    "            A tuple of the start and end index of the word in the sentence.\n",
    "\n",
    "    Returns:\n",
    "        returns List[int]:\n",
    "            The word embedding for the word in the sentence.\n",
    "    \"\"\"\n",
    "    tokens_for_word = [token for token in doc if token.idx >= word_range[0] and token.idx + len(token) <= word_range[1]]\n",
    "    return np.sum([token.vector for token in tokens_for_word], axis=0)\n",
    "\n",
    "\n",
    "def spacy_trf_word_embedding_from_token_embeddings(\n",
    "    doc: spacy.tokens.Doc, word_range: Tuple[int, int]\n",
    "    ) -> np.array:\n",
    "    \"\"\"\n",
    "    Given a SpaCy doc object for a sentence, and the inclusive-start index and exclusive-end index\n",
    "    of a word in that sentence, the function finds the tokens that represent the word, and returns\n",
    "    the sum of their embeddings.\n",
    "\n",
    "    Parameters:\n",
    "        doc:\n",
    "            A SpaCy Doc object.\n",
    "        word_range:\n",
    "            A tuple of the start and end index of the word in the sentence.\n",
    "\n",
    "    Returns:\n",
    "        returns (np.ndarray):\n",
    "            The word embedding for the word in the sentence.\n",
    "    \"\"\"\n",
    "    # +1 because transformer starts with a special token that is not shown\n",
    "    tokens_positions_for_word = [\n",
    "        i + 1 for i, token in enumerate(doc) \\\n",
    "        if token.idx >= word_range[0] and token.idx + len(token) <= word_range[1]\n",
    "    ]\n",
    "    return np.sum([doc._.trf_data.last_hidden_layer_state.data[i] for i in tokens_positions_for_word], axis=0)\n",
    "\n",
    "\n",
    "def spacy_with_context(verb_data: dict, model_type: str = 'medium') -> dict:\n",
    "    \"\"\"\n",
    "    This function takes a dictionary of words with their sentences and word range indexes, and a model name.\n",
    "    It loads the specified model and computes the embedding for each target word in each sentence.\n",
    "    The embedding for single word is the sum of its tokens.\n",
    "\n",
    "    Parameters:\n",
    "    verb_data (dict):\n",
    "        A dictionary where keys are words and values are dictionaries with 'sentences' and 'word_ranges' keys.\n",
    "        Note that a word ranges follow python indexing: the end index is exclusive.\n",
    "    model_type (str):\n",
    "        A string corresponding to the SpaCy model to load.\n",
    "        One of ['small', 'medium', 'large', 'transformer'].\n",
    "\n",
    "    Returns:\n",
    "    dict: A dictionary of words with their list of embeddings.\n",
    "    \"\"\"\n",
    "    model = get_spacy_tok2vec(model_type)\n",
    "\n",
    "    word_embeddings = {}\n",
    "\n",
    "    if model_type == 'transformer':\n",
    "        word_embedding_from_token_embeddings = spacy_trf_word_embedding_from_token_embeddings\n",
    "    else:\n",
    "        word_embedding_from_token_embeddings = spacy_cnn_word_embedding_from_token_embeddings\n",
    "\n",
    "    for word, data in verb_data.items():\n",
    "        sentences = data['sentences']\n",
    "        word_ranges_per_sentence = data['word_ranges']\n",
    "\n",
    "        word_embeddings_all_instances = []\n",
    "\n",
    "        docs = model.pipe(sentences)\n",
    "\n",
    "        for doc, word_ranges in zip(docs, word_ranges_per_sentence):\n",
    "\n",
    "            for word_range in word_ranges:\n",
    "\n",
    "                word_embedding_this_instance = word_embedding_from_token_embeddings(doc, word_range)\n",
    "                word_embeddings_all_instances.append(word_embedding_this_instance.tolist())\n",
    "\n",
    "        # Append a list of the embeddings for each instance of the target word in all sentences\n",
    "        word_embeddings[word] = word_embeddings_all_instances\n",
    "\n",
    "    return word_embeddings"
   ]
  },
  {
   "cell_type": "code",
   "execution_count": 18,
   "metadata": {},
   "outputs": [
    {
     "name": "stdout",
     "output_type": "stream",
     "text": [
      "(2, 300)\n",
      "(3, 300)\n"
     ]
    }
   ],
   "source": [
    "results = spacy_with_context(\n",
    "    verb_data={\n",
    "        'bailar': {\n",
    "            'sentences': ['Ellos bailan en la discoteca.', 'Ella baila en la discoteca.'],\n",
    "            'word_ranges': [[(6, 12)], [(5, 10)]]\n",
    "        },\n",
    "        'comer': {\n",
    "            'sentences': ['Ellos comen mientras como en la discoteca.', 'Ella come en la discoteca.'],\n",
    "            'word_ranges': [[(6, 11), (21, 25)], [(5, 9)]]\n",
    "        }\n",
    "    },\n",
    "    model_type = 'medium'\n",
    ")\n",
    "print(np.array(results['bailar']).shape)\n",
    "print(np.array(results['comer']).shape)"
   ]
  },
  {
   "cell_type": "markdown",
   "metadata": {},
   "source": [
    "#### Hugging Face"
   ]
  },
  {
   "cell_type": "code",
   "execution_count": null,
   "metadata": {},
   "outputs": [],
   "source": [
    "# def hf_no_context(verb_data: Dict[str, Dict], model_name: str, layers: List[int]) -> Dict[str, List[int]]:\n",
    "#     \"\"\"\n",
    "#     Gets the word embeddings for a dict of words as keys.\n",
    "\n",
    "#     Parameters:\n",
    "#         verb_data (dict):\n",
    "#             A dictionary where each key is a verb (str); values are not used.\n",
    "\n",
    "#     Returns:\n",
    "#         returns (dict):\n",
    "#             A dictionary where each key is a verb (str) from the input dictionary and each value is\n",
    "#             the embedding vector for the verb.\n",
    "#     \"\"\"\n",
    "#     from transformers import AutoTokenizer, AutoModel\n",
    "#     tokenizer = AutoTokenizer.from_pretrained(model_name)\n",
    "#     model = AutoModel.from_pretrained(model_name, output_hidden_states=True)\n",
    "#     embeddings = {}\n",
    "\n",
    "#     for verb in verb_data.keys():\n",
    "\n",
    "#         # Pass verb through transformer\n",
    "#         token_ids = tokenizer(verb, return_tensors=\"pt\")\n",
    "#         hidden_states = model(**token_ids).hidden_states\n",
    "\n",
    "#         # Index and average the requested layers and add to embeddings dict\n",
    "#         embeddings[verb] = np.array(\n",
    "#             [hidden_states[layers[i]][0][0].detach().numpy() for i in layers]\n",
    "#             ).mean(axis=0)\n",
    "\n",
    "#     return embeddings"
   ]
  },
  {
   "cell_type": "code",
   "execution_count": 21,
   "metadata": {},
   "outputs": [],
   "source": [
    "# def map_words_to_tokens(word_ranges: List[Tuple[int, int]], offset_mapping: AutoTokenizer) -> List[int]:\n",
    "#     \"\"\"\n",
    "#     This function takes a sentence, a list of word ranges, and a tokenizer, and returns a list of positions of the tokens that correspond to each word.\n",
    "#         Hugging Face gives offsets that use python indexing, where the end index is exclusive, so word_ranges must follow this convention.\n",
    "\n",
    "#     Parameters:\n",
    "#     sentence (str): The input sentence.\n",
    "#     word_ranges (List[Tuple[int, int]]): A list of tuples, where each tuple is the inclusive-start index and exclusive-end index of a target word in the sentence.\n",
    "#     inputs (List[List[int, int]]): A list of lists, where each list contains the start and end index of a target word in the sentence.\n",
    "\n",
    "#     Returns:\n",
    "#     List[List[int]]: A list of lists, where each list contains the positions of the tokens that correspond to one target word.\n",
    "#     \"\"\"\n",
    "#     all_word_positions = []\n",
    "\n",
    "#     for start_pos, end_pos in word_ranges:\n",
    "\n",
    "#         # Find the tokens that correspond to the word\n",
    "#         word_positions = [\n",
    "#             i for i, offset in enumerate(offset_mapping) \\\n",
    "#             if offset[0] >= start_pos and offset[1] <= end_pos\n",
    "#         ]\n",
    "\n",
    "#         all_word_positions.append(word_positions)\n",
    "\n",
    "#     return all_word_positions\n",
    "\n",
    "# word_embedding_from_token_embeddings = lambda layer, positions: torch.stack([layer[position] for position in positions]).sum(dim=0)\n",
    "# def hf_with_context(verb_data: dict, model_name: str, layers: list) -> dict:\n",
    "#     \"\"\"\n",
    "#     This function takes a dictionary of words with their sentences and word range indexes, a model name, and a list of layers.\n",
    "#     It loads the specified model and its tokenizer, and computes the embedding for each target word in each sentence.\n",
    "#     The embedding for single word is the sum of its tokens, averaged across specified layers.\n",
    "#     The function returns a dictionary of words with their list of embeddings.\n",
    "\n",
    "#     Parameters:\n",
    "#     verb_data (dict): A dictionary where keys are words and values are dictionaries with 'sentences' and 'word_ranges' keys.\n",
    "#         Note that a word ranges follow python indexing: the end index is exclusive.\n",
    "#     model_name (str): The name of a Hugging Face model to load.\n",
    "#     layers (list): A list of index positions for the layers to include in the embedding calculation.\n",
    "\n",
    "#     Returns:\n",
    "#     dict: A dictionary of words with their list of embeddings.\n",
    "#     \"\"\"\n",
    "#     word_embedding_from_token_embeddings = lambda layer, positions: torch.stack([layer[position] for position in positions]).sum(dim=0)\n",
    "\n",
    "#     tokenizer = AutoTokenizer.from_pretrained(model_name)\n",
    "#     model = AutoModel.from_pretrained(model_name, output_hidden_states=True)\n",
    "\n",
    "#     word_embeddings = {}\n",
    "\n",
    "#     for word, data in verb_data.items():\n",
    "#         sentences = data['sentences']\n",
    "#         word_ranges_per_sentence = data['word_ranges']\n",
    "\n",
    "#         word_embeddings_all_instances = []\n",
    "\n",
    "#         for sentence, word_ranges in zip(sentences, word_ranges_per_sentence):\n",
    "\n",
    "#             # Embedding for each token of the sentence\n",
    "#             inputs = tokenizer.encode_plus(sentence, return_tensors='pt', return_offsets_mapping=True)\n",
    "#             offset_mapping = inputs.pop('offset_mapping')[0]\n",
    "\n",
    "#             outputs = model(**inputs)\n",
    "#             hidden_states = outputs.hidden_states\n",
    "\n",
    "#             # Mapping of each target word in the sentence to the tokens that represent it\n",
    "#             tokens_for_word = map_words_to_tokens(word_ranges, offset_mapping)\n",
    "\n",
    "#             # Calculate a word embedding for a word in a sentence as the sum of its tokens, averaged across specified layers\n",
    "#             for tokens_positions in tokens_for_word:\n",
    "\n",
    "#                 # Get the embedding for the specified layers and average them\n",
    "#                 word_embedding_this_instance = torch.stack(\n",
    "#                     [word_embedding_from_token_embeddings(hidden_states[layer][0], tokens_positions) for layer in layers]\n",
    "#                     ).mean(dim=0)\n",
    "\n",
    "#                 # Append the embedding to the word's list of embeddings\n",
    "#                 word_embeddings_all_instances.append(word_embedding_this_instance.tolist())\n",
    "\n",
    "#         # Append a list of the embeddings for each instance of the target word in all sentences\n",
    "#         word_embeddings[word] = word_embeddings_all_instances\n",
    "\n",
    "#     return word_embeddings"
   ]
  },
  {
   "cell_type": "code",
   "execution_count": 22,
   "metadata": {},
   "outputs": [],
   "source": [
    "results = hf_with_context(\n",
    "    verb_data={\n",
    "        'bailar': {\n",
    "            'sentences': ['Ellos bailan en la discoteca.', 'Ella baila en la discoteca.'],\n",
    "            'word_ranges': [[(6, 12)], [(5, 10)]]\n",
    "        },\n",
    "        'comer': {\n",
    "            'sentences': ['Ellos comen mientras como en la discoteca.', 'Ella come en la discoteca.'],\n",
    "            'word_ranges': [[(6, 11), (21, 25)], [(5, 9)]]\n",
    "        }\n",
    "    },\n",
    "    model_name = 'bert-base-multilingual-cased',\n",
    "    layers = [-4, -3, -2, -1]\n",
    ")\n",
    "print(np.array(results['bailar']).shape)\n",
    "print(np.array(results['comer']).shape)"
   ]
  },
  {
   "cell_type": "markdown",
   "metadata": {},
   "source": [
    "#### Derive Word Embeddings"
   ]
  },
  {
   "cell_type": "code",
   "execution_count": 20,
   "metadata": {},
   "outputs": [],
   "source": [
    "def derive_embeddings():\n",
    "    \"\"\"\n",
    "\n",
    "    Data Structures:\n",
    "    - verb_data:\n",
    "        A dict of words. Each word has a dict containing:\n",
    "            1. A list of sentences that contain the word.\n",
    "            2. A list of word range indexes for each position of that word or one of its conjugations in that sentence.\n",
    "        Example:\n",
    "            verb_data={\n",
    "                'bailar': {\n",
    "                    'sentences': ['Ellos bailan en la discoteca.', 'Ella baila en la discoteca.'],\n",
    "                    'word_ranges': [[(6, 12)], [(5, 10)]]\n",
    "                },\n",
    "                'comer': {\n",
    "                    'sentences': ['Ellos comen mientras como en la discoteca.', 'Ella come en la discoteca.'],\n",
    "                    'word_ranges': [[(6, 11), (21, 25)], [(5, 9)]]\n",
    "                }\n",
    "            },\n",
    "    - embeddings_no_context:\n",
    "        A dict of word embedding models. Each model has a dict of words.\n",
    "        Each word has a 1D vector of its word embedding for that model.\n",
    "        Example:\n",
    "            embeddings_no_context = {\n",
    "                'word2vec': {\n",
    "                    'word1': [1,2,3,4,5],\n",
    "                    'word2': [6,7,8,9,10],\n",
    "                },\n",
    "                'fasttext': {\n",
    "                    'word1': [1,2,3,4,5],\n",
    "                    'word2': [1,2,3,4,5],\n",
    "                },\n",
    "            }\n",
    "    - embeddings_with_context:\n",
    "        A dict of word embedding models. Each model has a dict of words.\n",
    "        Each word has a 2D vector of its word embedding for that model, for each\n",
    "        sentence of the corpus that contains the word.\n",
    "        Example:\n",
    "            embeddings_with_context = {\n",
    "                'spacy_cnn': {\n",
    "                    'word1': [\n",
    "                        [1,2,3,4,5],\n",
    "                        [1,2,4,4,5]\n",
    "                    ],\n",
    "                    'word2': [\n",
    "                        [6,7,8,9,10],\n",
    "                        [7,7,8,9,9]\n",
    "                    ]\n",
    "                },\n",
    "                'bert': {\n",
    "                    ...\n",
    "                }\n",
    "            }\n",
    "\n",
    "    \"\"\"\n",
    "    verb_data = get_verb_data()\n",
    "\n",
    "    # Load Hugging Face models\n",
    "    model_name_spacy_cnn = \"large\"\n",
    "    model_name_spacy_trf = \"transformer\"\n",
    "    model_name_hf_bert = \"bert-base-multilingual-cased\"\n",
    "    model_name_hf_gpt = \"openai-community/gpt2\"\n",
    "\n",
    "    # Setup output data structures\n",
    "    embeddings_no_context = {\n",
    "        # 'word2vec'     : {},\n",
    "        'fasttext'     : {},\n",
    "        'spacy_cnn'    : {},\n",
    "        'spacy_trf'    : {},\n",
    "        'bert_trf'     : {},\n",
    "        'gpt_trf' : {}\n",
    "    }\n",
    "    embeddings_with_context = {\n",
    "        'spacy_cnn'    : {},\n",
    "        'spacy_trf'    : {},\n",
    "        'bert_trf'     : {},\n",
    "        'gpt_trf' : {}\n",
    "    }\n",
    "\n",
    "    # Get Context-Independent Embeddings\n",
    "    # embeddings_no_context['word2vec'] = word2vec_no_context(verb_data)\n",
    "    embeddings_no_context['fasttext']       = fasttext_no_context(verb_data)\n",
    "    embeddings_no_context['spacy_cnn']      = spacy_no_context(verb_data, model_name_spacy_cnn)\n",
    "    embeddings_no_context['spacy_trf']      = spacy_no_context(verb_data, model_name_spacy_trf)\n",
    "    embeddings_no_context['bert_trf']       = hf_no_context(verb_data, model_name_hf_bert)\n",
    "    embeddings_no_context['gpt_trf']        = hf_no_context(verb_data, model_name_hf_gpt)\n",
    "\n",
    "    # Get Context-Dependent Embeddings\n",
    "    embeddings_with_context['spacy_cnn']    = spacy_with_context(verb_data, model_name_spacy_cnn)\n",
    "    embeddings_with_context['spacy_trf']    = spacy_with_context(verb_data, model_name_spacy_trf)\n",
    "    embeddings_with_context['bert_trf']     = hf_with_context(verb_data, model_name_hf_bert)\n",
    "    embeddings_with_context['gpt_trf']      = hf_with_context(verb_data, model_name_hf_gpt)\n",
    "\n",
    "    return (embeddings_no_context, embeddings_with_context)"
   ]
  },
  {
   "cell_type": "markdown",
   "metadata": {},
   "source": [
    "### New Try"
   ]
  },
  {
   "cell_type": "markdown",
   "metadata": {},
   "source": [
    "####    Download Hugging Face Data"
   ]
  },
  {
   "cell_type": "code",
   "execution_count": null,
   "metadata": {},
   "outputs": [],
   "source": [
    "def iter_hf_corpus(batch_size: int = 100, offset: int = 0) -> List[str]:\n",
    "    \"\"\"\n",
    "    Returns an iterable that retrieves a list of sentences\n",
    "    from the wikipedia's spanish dataset on HuggingFace.\n",
    "        Once the end of the dataset is reached, it will return an empty list []\n",
    "        for every subsequent call.\n",
    "    \"\"\"\n",
    "    dataset = 'wikimedia/wikipedia'\n",
    "    config_name = '20231101.es'\n",
    "    split = 'train'\n",
    "\n",
    "    base_url = \"https://datasets-server.huggingface.co/rows\"\n",
    "\n",
    "    batch_size = min(batch_size, 100) # Max batch_size is 100\n",
    "\n",
    "    while True:\n",
    "        params = {\n",
    "            \"dataset\": dataset,\n",
    "            \"config\": config_name,\n",
    "            \"split\": split,\n",
    "            \"offset\": offset,\n",
    "            \"length\": batch_size\n",
    "        }\n",
    "        response = requests.get(base_url, params=params)\n",
    "        data = response.json()\n",
    "\n",
    "        results = [instance[\"row\"][\"text\"] for instance in data[\"rows\"]]\n",
    "        yield results\n",
    "\n",
    "        offset += batch_size"
   ]
  },
  {
   "cell_type": "markdown",
   "metadata": {},
   "source": [
    "####  Get Models: SpaCy"
   ]
  },
  {
   "cell_type": "code",
   "execution_count": null,
   "metadata": {},
   "outputs": [],
   "source": [
    "def get_spacy(model_type: str = \"medium\", task: str = 'all') -> spacy.language.Language:\n",
    "    \"\"\"\n",
    "    Loads a SpaCy model for Spanish that performs tokenization and word\n",
    "    embedding via the tok2vec layer, and disables, the other model components\n",
    "    for faster processing of word embeddings.\n",
    "    \"\"\"\n",
    "    models = {\n",
    "        \"small\": \"es_core_news_sm\",\n",
    "        \"medium\": \"es_core_news_md\",\n",
    "        \"large\": \"es_core_news_lg\",\n",
    "        \"transformer\": \"es_dep_news_trf\"}\n",
    "\n",
    "    disable_list = {\n",
    "        \"all\": [],\n",
    "        \"lemma\": [\"ner\"],\n",
    "        \"pos\": [\"ner\", \"attribute_ruler\", \"lemmatizer\"],\n",
    "        \"embedding\": [\"morphologizer\", \"parser\", \"senter\", \"attribute_ruler\", \"lemmatizer\", \"ner\"]\n",
    "    }\n",
    "    ## Check if function arguments are valid\n",
    "    try:\n",
    "        model_name = models[model_type]\n",
    "    except KeyError:\n",
    "        raise ValueError(\"Invalid model name. Choose from 'small', 'medium', 'large', or 'transformer'.\")\n",
    "    try:\n",
    "        disable = disable_list[task]\n",
    "    except KeyError:\n",
    "        raise ValueError(\"Invalid task name. Choose from 'all', 'lemma', 'pos', or 'embedding'.\")\n",
    "\n",
    "    ## Get model and download model if not installed\n",
    "    while True:\n",
    "        try:\n",
    "            model = spacy.load(model_name, disable=disable)\n",
    "            break\n",
    "        except OSError:\n",
    "            print(f\"Installing Spacy model '{model_name}'\")\n",
    "            spacy.cli.download(model_name)\n",
    "    return model"
   ]
  },
  {
   "cell_type": "markdown",
   "metadata": {},
   "source": [
    "#### Preprocess Text: sentence segmentation, POS tagging, lemmatization"
   ]
  },
  {
   "cell_type": "code",
   "execution_count": null,
   "metadata": {},
   "outputs": [],
   "source": [
    "def get_lemma_and_pos(sent: spacy.tokens.span.Span) -> Dict[str, List[Tuple[int, int]]]:\n",
    "    \"\"\"\n",
    "    For a single sentence, returns a list of infinitive verbs and the\n",
    "    inclusive-start index and exclusive-end index positions of each instance of\n",
    "    that verb's conjugations and infinitive.\n",
    "    \"\"\"\n",
    "    lemma_and_pos = defaultdict(list)\n",
    "    for token in sent:\n",
    "        if token.pos_ in ['VERB', 'AUX']:\n",
    "            lemma_and_pos[token.lemma_].append((token.idx, token.idx + len(token)))\n",
    "    return lemma_and_pos"
   ]
  },
  {
   "cell_type": "markdown",
   "metadata": {},
   "source": [
    "#### Get Embeddings: SpaCy"
   ]
  },
  {
   "cell_type": "code",
   "execution_count": null,
   "metadata": {},
   "outputs": [],
   "source": [
    "def embeddings_with_context_spacy_cnn(\n",
    "    lemma_and_pos: Dict[str, List[Tuple[int, int]]], sent: str,\n",
    "    embeddings: Dict[str, List[int]], model: spacy.language.Language\n",
    "    ) -> Dict[str, List[int]]:\n",
    "    \"\"\"\n",
    "    Firstly, uses a SpaCy CNN model to derive token embeddings for each token in a sentence.\n",
    "    Secondly, creates word embeddings as the sum of token embeddings that make up that word,\n",
    "    and does this for each position of each verb found in the sentence (as instructed by lemma_and_pos).\n",
    "    Finally, appends the word embeddings to the embeddings dictionary for this model.\n",
    "\n",
    "    Parameters:\n",
    "    lemma_and_pos (dict):\n",
    "        A dictionary where keys are verbs in infinitive form and values are lists of word ranges as tuples,\n",
    "        where each tuple is the inclusive-start index and exclusive-end index of a target word in the sentence.\n",
    "    sent (str):\n",
    "        The sentence to process token embeddings for.\n",
    "    embeddings (dict):\n",
    "        A dictionary where keys are verbs in infinitive form and values are lists of SpaCy embeddings\n",
    "        for each instance of the verb in the corpus.\n",
    "    model (spacy.language.Language):\n",
    "        The SpaCy CNN tok2vec model to create the embeddings.\n",
    "\n",
    "    Returns (dict):\n",
    "        An updated dictionary of SpaCy embeddings, where keys are verbs in infinitive form\n",
    "        and values are lists of SpaCy embeddings for each instance of the verb in the corpus.\n",
    "    \"\"\"\n",
    "    doc = model(sent)\n",
    "    for verb, word_ranges in lemma_and_pos.items():\n",
    "        for word_range in word_ranges:\n",
    "            tokens_for_word = [token for token in doc if token.idx >= word_range[0] and token.idx + len(token) <= word_range[1]]\n",
    "            word_embedding = np.sum([token.vector for token in tokens_for_word], axis=0)\n",
    "            embeddings[verb].append(word_embedding)\n",
    "    return word_embedding\n",
    "\n",
    "\n",
    "def embeddings_with_context_spacy_trf(\n",
    "    lemma_and_pos: Dict[str, List[Tuple[int, int]]], sent: str,\n",
    "    embeddings: Dict[str, List[int]], model: spacy.language.Language\n",
    "    ) -> Dict[str, List[int]]:\n",
    "    \"\"\"\n",
    "    Firstly, uses a SpaCy CNN model to derive token embeddings for each token in a sentence.\n",
    "    Secondly, creates word embeddings as the sum of token embeddings that make up that word,\n",
    "    and does this for each position of each verb found in the sentence (as instructed by lemma_and_pos).\n",
    "    Finally, appends the word embeddings to the embeddings dictionary for this model.\n",
    "\n",
    "    Parameters:\n",
    "    lemma_and_pos (dict):\n",
    "        A dictionary where keys are verbs in infinitive form and values are lists of word ranges as tuples,\n",
    "        where each tuple is the inclusive-start index and exclusive-end index of a target word in the sentence.\n",
    "    sent (str):\n",
    "        The sentence to process token embeddings for.\n",
    "    embeddings (dict):\n",
    "        A dictionary where keys are verbs in infinitive form and values are lists of SpaCy embeddings\n",
    "        for each instance of the verb in the corpus.\n",
    "    model (spacy.language.Language):\n",
    "        The SpaCy transformer tok2vec model to create the embeddings.\n",
    "\n",
    "    Returns (dict):\n",
    "        An updated dictionary of SpaCy embeddings, where keys are verbs in infinitive form\n",
    "        and values are lists of SpaCy embeddings for each instance of the verb in the corpus.\n",
    "    \"\"\"\n",
    "    doc = model(sent)\n",
    "    for verb, word_ranges in lemma_and_pos.items():\n",
    "        for word_range in word_ranges:\n",
    "\n",
    "            tokens_positions_for_word = [\n",
    "                i + 1 for i, token in enumerate(doc) \\\n",
    "                if token.idx >= word_range[0] and token.idx + len(token) <= word_range[1]\n",
    "            ]\n",
    "            word_embedding = np.sum([doc._.trf_data.last_hidden_layer_state.data[i] for i in tokens_positions_for_word], axis=0)\n",
    "            embeddings[verb].append(word_embedding)\n",
    "    return word_embedding"
   ]
  },
  {
   "cell_type": "markdown",
   "metadata": {},
   "source": [
    "#### Get Embeddings: Hugging Face"
   ]
  },
  {
   "cell_type": "code",
   "execution_count": null,
   "metadata": {},
   "outputs": [],
   "source": [
    "def map_words_to_tokens(word_range: Tuple[int, int], offset_mapping: AutoTokenizer) -> List[int]:\n",
    "    \"\"\"\n",
    "    This function returns the positions of tokens that correspond to a word, given the word range for that word\n",
    "    and an Hugging Face offset mapping.\n",
    "\n",
    "    Parameters:\n",
    "        word_range (Tuple[int, int]):\n",
    "            The inclusive-start index and exclusive-end index of a target word in the sentence.\n",
    "        offset_mapping (List[Tuple[int, int]]):\n",
    "            A list of token index tuples. Each tuple is the start and end index of the characters\n",
    "            in a sentence that the token represents.\n",
    "\n",
    "    Returns (List[int]]):\n",
    "        A list of the positions of the tokens that correspond to the target word.\n",
    "    \"\"\"\n",
    "    start_pos, end_pos = word_range\n",
    "\n",
    "    token_positions = [\n",
    "        i for i, offset in enumerate(offset_mapping) \\\n",
    "        if offset[0] >= start_pos and offset[1] <= end_pos\n",
    "    ]\n",
    "    return token_positions\n",
    "\n",
    "\n",
    "def word_embedding_from_token_embeddings(layer: torch.Tensor, token_positions: List[int]):\n",
    "    \"\"\"\n",
    "    Given a layer of token embeddings and a list of positions of tokens that correspond to a word,\n",
    "    returns the sum of the embeddings for the tokens that correspond to the word.\n",
    "\n",
    "    Parameters:\n",
    "        layer (torch.Tensor):\n",
    "            A tensor of token embeddings for a layer in a Hugging Face model.\n",
    "        token_positions (List[int]):\n",
    "            A list of positions of tokens that correspond to a word.\n",
    "\n",
    "    Returns (torch.Tensor):\n",
    "        The word embedding for the layer.\n",
    "    \"\"\"\n",
    "    return torch.stack([layer[position] for position in token_positions]).sum(dim=0)\n",
    "\n",
    "\n",
    "def word_embedding_across_layers(\n",
    "    hidden_states: torch.Tensor, token_positions: List[int], layers: List[int]\n",
    "    ) -> List[int]:\n",
    "    \"\"\"\n",
    "    Averages the word embeddings across specified layers.\n",
    "\n",
    "    Parameters:\n",
    "        hidden_states (torch.Tensor):\n",
    "            A tensor of token embeddings for all layers in a Hugging Face model.\n",
    "        token_positions (list):\n",
    "            A list of positions of tokens that correspond to a word.\n",
    "        layers (list):\n",
    "            A list of index positions for the layers to include in the embedding calculation.\n",
    "    \"\"\"\n",
    "    embedding_per_layer = [\n",
    "        word_embedding_from_token_embeddings(hidden_states[layer][0], token_positions) \\\n",
    "        for layer in layers\n",
    "    ]\n",
    "    return torch.stack(embedding_per_layer).mean(dim=0).tolist()\n",
    "\n",
    "\n",
    "def embeddings_with_context_hf(\n",
    "    lemma_and_pos: Dict[str, List[Tuple[int, int]]], sent: str,\n",
    "    embeddings: Dict[str, List[int]], layers: List[int],\n",
    "    tokenizer: AutoTokenizer, model: AutoModel, is_gpt: bool = False\n",
    "    ) -> Dict[str, List[int]]:\n",
    "    \"\"\"\n",
    "    Firstly, uses a Hugging Face model to derive token embeddings for each token in a sentence.\n",
    "    Secondly, creates word embeddings as the sum of token embeddings that make up that word,\n",
    "    and does this for each position of each verb found in the sentence (as instructed by lemma_and_pos).\n",
    "    Finally, appends the word embeddings to the embeddings dictionary for this model.\n",
    "\n",
    "    Parameters:\n",
    "    lemma_and_pos (dict):\n",
    "        A dictionary where keys are verbs in infinitive form and values are lists of word ranges as tuples,\n",
    "        where each tuple is the inclusive-start index and exclusive-end index of a target word in the sentence.\n",
    "    sent (str):\n",
    "        The sentence to process token embeddings for.\n",
    "    embeddings (dict):\n",
    "        A dictionary where keys are verbs in infinitive form and values are lists of embeddings\n",
    "        from a Hugging Face model for each instance of the verb in the corpus.\n",
    "    layers (list):\n",
    "        A list of index positions for the layers to include in the embedding calculation.\n",
    "    tokenizer (AutoTokenizer):\n",
    "        The Hugging Face tokenizer to encode the sentence.\n",
    "    model (AutoModel):\n",
    "        The Hugging Face model to create the embeddings.\n",
    "    is_gpt (bool):\n",
    "        GPT tokenizer attaches whitespaces to the first token after the whitespace, and this is represented\n",
    "        in token offset indexes, so the token positions must account for this.\n",
    "\n",
    "    Returns (dict):\n",
    "        An updated dictionary of embeddings, where keys are verbs in infinitive form\n",
    "        and values are lists of embeddings for each instance of the verb in the corpus.\n",
    "    \"\"\"\n",
    "    # Embedding for each token of the sentence\n",
    "    inputs = tokenizer.encode_plus(sent, return_tensors='pt', return_offsets_mapping=True)\n",
    "    offset_mapping = inputs.pop('offset_mapping')[0]\n",
    "    outputs = model(**inputs)\n",
    "    hidden_states = outputs.hidden_states\n",
    "\n",
    "    for verb, word_ranges in lemma_and_pos.items():\n",
    "        for word_range in word_ranges:\n",
    "\n",
    "            # Simple work-around for GPT tokenizer include whitespace in its offset indexes\n",
    "            if is_gpt:\n",
    "                word_range = (max(word_range[0] - 1, 0), word_range[1])\n",
    "\n",
    "            # Mapping of each target word in the sentence to the tokens that represent it\n",
    "            tokens_positions = map_words_to_tokens(word_range, offset_mapping)\n",
    "\n",
    "            # Calculate a word embedding for a word in a sentence as the sum of its tokens, averaged across specified layers\n",
    "            word_embedding = word_embedding_across_layers(hidden_states, tokens_positions, layers)\n",
    "\n",
    "            embeddings[verb].append(word_embedding)\n",
    "    return embeddings"
   ]
  },
  {
   "cell_type": "markdown",
   "metadata": {},
   "source": [
    "#### Other Helper Functions"
   ]
  },
  {
   "cell_type": "code",
   "execution_count": null,
   "metadata": {},
   "outputs": [],
   "source": [
    "def update_word_counts(word_counts: Dict[str, int], lemma_and_pos: Dict[str, List]) -> Dict[str, int]:\n",
    "    \"\"\"\n",
    "    Updates a dictionary of word counts with the number of instances\n",
    "    of each verb or its conjugations in a sentence.\n",
    "    \"\"\"\n",
    "    for verb, positions in lemma_and_pos.items():\n",
    "        word_counts[verb] += len(positions)\n",
    "    return word_counts\n",
    "\n",
    "def pickle_save(data, filename):\n",
    "    with open(filename, 'wb') as file:\n",
    "        pickle.dump(data, file)\n",
    "    return\n",
    "\n",
    "def pickle_load(filename):\n",
    "    with open(filename, 'rb') as file:\n",
    "        return pickle.load(file)\n"
   ]
  },
  {
   "cell_type": "markdown",
   "metadata": {},
   "source": [
    "#### Main"
   ]
  },
  {
   "cell_type": "code",
   "execution_count": null,
   "metadata": {},
   "outputs": [],
   "source": [
    "def get_embeddings_with_context(layers: List[int] = [-4, -3, -2, -1], max_samples: int = float('inf')):\n",
    "    \"\"\"\n",
    "    Returns:\n",
    "        embeddings_no_context (dict):\n",
    "            A dict of word embedding models. Each model has a dict of words.\n",
    "            Each word has a 1D vector of its word embedding for that model.\n",
    "            Example:\n",
    "                embeddings_no_context = {\n",
    "                    'word2vec': {\n",
    "                        'word1': [1,2,3,4,5],\n",
    "                        'word2': [6,7,8,9,10]},\n",
    "                    'fasttext': {\n",
    "                        'word1': [1,2,3,4,5],\n",
    "                        'word2': [1,2,3,4,5]}}\n",
    "        embeddings_with_context:\n",
    "            A dict of word embedding models. Each model has a dict of words.\n",
    "            Each word has a 2D vector of its word embedding for that model, for each\n",
    "            sentence of the corpus that contains the word.\n",
    "            Example:\n",
    "                embeddings_with_context = {\n",
    "                    'spacy_cnn': {\n",
    "                        'word1': [\n",
    "                            [1,2,3,4,5],\n",
    "                            [1,2,4,4,5]],\n",
    "                        'word2': [\n",
    "                            [6,7,8,9,10],\n",
    "                            [7,7,8,9,9]]},\n",
    "                    'bert': {\n",
    "                        ...}}\n",
    "    \"\"\"\n",
    "    # Output Data Structures\n",
    "    word_counts = defaultdict(int)\n",
    "    embeddings = defaultdict(lambda: defaultdict(list))\n",
    "    filename_word_counts = 'word_counts'\n",
    "    filename_embeddings = 'embeddings_with_context'\n",
    "\n",
    "    # Load the dataset as an iterator\n",
    "    batch_size = 100 # max download size for Hugging Face API is 100\n",
    "    corpus_iterator = iter_hf_corpus(batch_size=batch_size)\n",
    "\n",
    "    # Load Model to apply sentence segmentation, POS tagging, and lemmatization.\n",
    "    preprocess_model = get_spacy('medium', task='all')\n",
    "\n",
    "    # Load Context-Dependent Word Embedding MOdels\n",
    "    spacy_cnn = get_spacy('large', task='embedding')\n",
    "    spacy_trf = get_spacy('transformer', task='embedding')\n",
    "\n",
    "    bert_name = 'bert-base-multilingual-cased'\n",
    "    bert_tokenizer = AutoTokenizer.from_pretrained(bert_name)\n",
    "    bert_model = AutoModel.from_pretrained(bert_name, output_hidden_states=True)\n",
    "\n",
    "    gpt2_name = 'openai-community/gpt2'\n",
    "    gpt2_tokenizer = AutoTokenizer.from_pretrained(gpt2_name)\n",
    "    gpt2_model = AutoModel.from_pretrained(gpt2_name, output_hidden_states=True)\n",
    "\n",
    "    # Process batches of text samples\n",
    "    current_samples = 0\n",
    "    while True:\n",
    "        batch_text = next(corpus_iterator)\n",
    "\n",
    "        crash()\n",
    "        # Check for end of dataset\n",
    "        if not batch_text: # empty list indicates end of dataset\n",
    "            break\n",
    "\n",
    "        docs = preprocess_model.pipe(batch_text)\n",
    "        sents = [sent for doc in docs for sent in doc.sents]\n",
    "\n",
    "        for sent in sents:\n",
    "            text = sent.text\n",
    "\n",
    "            # Get Position Indexes for each Verb in the Sentence\n",
    "            lemma_and_pos = get_lemma_and_pos(sent)\n",
    "            if not lemma_and_pos:\n",
    "                continue\n",
    "\n",
    "            word_counts = update_word_counts(word_counts, lemma_and_pos)\n",
    "\n",
    "            # Get Context-Dependent Word Embeddings\n",
    "            embeddings['spacy_cnn'] = embeddings_with_context_spacy_cnn(\n",
    "                lemma_and_pos, text, embeddings['spacy_cnn'], spacy_cnn)\n",
    "            embeddings['spacy_trf'] = embeddings_with_context_spacy_trf(\n",
    "                lemma_and_pos, text, embeddings['spacy_trf'], spacy_trf)\n",
    "            embeddings['bert'] = embeddings_with_context_hf(\n",
    "                lemma_and_pos, text, embeddings['bert'],\n",
    "                layers, bert_tokenizer, bert_model)\n",
    "            embeddings['gpt2'] = embeddings_with_context_hf(\n",
    "                lemma_and_pos, text, embeddings['gpt2'],\n",
    "                layers, gpt2_tokenizer, gpt2_model, is_gpt=True)\n",
    "\n",
    "        # Checkpoint\n",
    "        pickle_save(word_counts, f\"filename_word_counts_{current_samples}.pkl\")\n",
    "        pickle_save(embeddings, f\"filename_embeddings_{current_samples}.pkl\")\n",
    "\n",
    "        # Code for partial download and processing of dataset\n",
    "        current_samples += batch_size\n",
    "        if current_samples >= max_samples:\n",
    "            break\n",
    "\n",
    "    return (word_counts, embeddings)\n"
   ]
  },
  {
   "cell_type": "code",
   "execution_count": 21,
   "metadata": {},
   "outputs": [
    {
     "name": "stdout",
     "output_type": "stream",
     "text": [
      "CPU usage: 12.3%\n",
      "Memory usage: 70.8%\n"
     ]
    },
    {
     "ename": "",
     "evalue": "",
     "output_type": "error",
     "traceback": [
      "\u001b[1;31mThe Kernel crashed while executing code in the current cell or a previous cell. \n",
      "\u001b[1;31mPlease review the code in the cell(s) to identify a possible cause of the failure. \n",
      "\u001b[1;31mClick <a href='https://aka.ms/vscodeJupyterKernelCrash'>here</a> for more info. \n",
      "\u001b[1;31mView Jupyter <a href='command:jupyter.viewOutput'>log</a> for further details."
     ]
    }
   ],
   "source": [
    "get_embeddings_with_context()"
   ]
  },
  {
   "cell_type": "code",
   "execution_count": null,
   "metadata": {},
   "outputs": [],
   "source": []
  },
  {
   "cell_type": "code",
   "execution_count": null,
   "metadata": {},
   "outputs": [],
   "source": []
  },
  {
   "cell_type": "code",
   "execution_count": null,
   "metadata": {},
   "outputs": [],
   "source": []
  },
  {
   "cell_type": "markdown",
   "metadata": {},
   "source": [
    "## OLD"
   ]
  },
  {
   "cell_type": "markdown",
   "metadata": {},
   "source": [
    "*A Note on Mapping functions to a Hugging Face dataset*\n",
    "\n",
    "Streaming also enables entire preprocessing and training pipelines to be executed without ever having the entire dataset in memory.\n",
    " - If aggregation into a dict is part of your pipeline, you will have to delete the old features when returning the new features, as a single batch cannot have features with different numbers of elements.\n",
    " - As well, be warned that `datasets.IterableDataset.map()` performs strangely when returning a dict for each batch. Only took a few hours to figure that out..."
   ]
  },
  {
   "cell_type": "markdown",
   "metadata": {},
   "source": [
    "Lets see how SpaCy's Spanish transformer model performs on our verb list within the context of the corpus sentences. We'll look at verbs labelled Auxiliary separately as they seemed to be a second category for verbs."
   ]
  },
  {
   "cell_type": "code",
   "execution_count": null,
   "metadata": {},
   "outputs": [],
   "source": [
    "bret_mislabelled_verbs = [word for words in bret_mislabelled.values() for word in words] # infinitives\n",
    "word_info = spacy_pos_tagger(bret_mislabelled_verbs, spacy.load('es_dep_news_trf'))\n",
    "frequency = [bow[word] for word in bret_mislabelled_verbs]\n",
    "df = pd.DataFrame({'verb': word_info[:, 0], 'pos': word_info[:, 1], 'frequency': frequency})"
   ]
  },
  {
   "cell_type": "code",
   "execution_count": null,
   "metadata": {},
   "outputs": [
    {
     "name": "stdout",
     "output_type": "stream",
     "text": [
      "Mean verb frequency: 45.7\n"
     ]
    },
    {
     "data": {
      "text/html": [
       "<div>\n",
       "<style scoped>\n",
       "    .dataframe tbody tr th:only-of-type {\n",
       "        vertical-align: middle;\n",
       "    }\n",
       "\n",
       "    .dataframe tbody tr th {\n",
       "        vertical-align: top;\n",
       "    }\n",
       "\n",
       "    .dataframe thead th {\n",
       "        text-align: right;\n",
       "    }\n",
       "</style>\n",
       "<table border=\"1\" class=\"dataframe\">\n",
       "  <thead>\n",
       "    <tr style=\"text-align: right;\">\n",
       "      <th></th>\n",
       "      <th>verb</th>\n",
       "      <th>pos</th>\n",
       "      <th>frequency</th>\n",
       "    </tr>\n",
       "  </thead>\n",
       "  <tbody>\n",
       "    <tr>\n",
       "      <th>353</th>\n",
       "      <td>saber</td>\n",
       "      <td>VERB</td>\n",
       "      <td>13862</td>\n",
       "    </tr>\n",
       "    <tr>\n",
       "      <th>347</th>\n",
       "      <td>estar</td>\n",
       "      <td>VERB</td>\n",
       "      <td>7716</td>\n",
       "    </tr>\n",
       "    <tr>\n",
       "      <th>196</th>\n",
       "      <td>deber</td>\n",
       "      <td>NOUN</td>\n",
       "      <td>4265</td>\n",
       "    </tr>\n",
       "    <tr>\n",
       "      <th>292</th>\n",
       "      <td>poder</td>\n",
       "      <td>VERB</td>\n",
       "      <td>3860</td>\n",
       "    </tr>\n",
       "    <tr>\n",
       "      <th>130</th>\n",
       "      <td>soler</td>\n",
       "      <td>PROPN</td>\n",
       "      <td>3447</td>\n",
       "    </tr>\n",
       "    <tr>\n",
       "      <th>234</th>\n",
       "      <td>equivaler</td>\n",
       "      <td>VERB</td>\n",
       "      <td>1220</td>\n",
       "    </tr>\n",
       "    <tr>\n",
       "      <th>288</th>\n",
       "      <td>pesar</td>\n",
       "      <td>NOUN</td>\n",
       "      <td>543</td>\n",
       "    </tr>\n",
       "    <tr>\n",
       "      <th>328</th>\n",
       "      <td>tardar</td>\n",
       "      <td>VERB</td>\n",
       "      <td>542</td>\n",
       "    </tr>\n",
       "    <tr>\n",
       "      <th>245</th>\n",
       "      <td>estribar</td>\n",
       "      <td>VERB</td>\n",
       "      <td>429</td>\n",
       "    </tr>\n",
       "    <tr>\n",
       "      <th>466</th>\n",
       "      <td>predominar</td>\n",
       "      <td>VERB</td>\n",
       "      <td>334</td>\n",
       "    </tr>\n",
       "    <tr>\n",
       "      <th>147</th>\n",
       "      <td>reembolsar</td>\n",
       "      <td>VERB</td>\n",
       "      <td>320</td>\n",
       "    </tr>\n",
       "    <tr>\n",
       "      <th>166</th>\n",
       "      <td>archivar</td>\n",
       "      <td>VERB</td>\n",
       "      <td>200</td>\n",
       "    </tr>\n",
       "    <tr>\n",
       "      <th>247</th>\n",
       "      <td>fallecer</td>\n",
       "      <td>VERB</td>\n",
       "      <td>174</td>\n",
       "    </tr>\n",
       "    <tr>\n",
       "      <th>100</th>\n",
       "      <td>matricular</td>\n",
       "      <td>VERB</td>\n",
       "      <td>145</td>\n",
       "    </tr>\n",
       "    <tr>\n",
       "      <th>123</th>\n",
       "      <td>reveler</td>\n",
       "      <td>PROPN</td>\n",
       "      <td>133</td>\n",
       "    </tr>\n",
       "  </tbody>\n",
       "</table>\n",
       "</div>"
      ],
      "text/plain": [
       "           verb    pos  frequency\n",
       "353       saber   VERB      13862\n",
       "347       estar   VERB       7716\n",
       "196       deber   NOUN       4265\n",
       "292       poder   VERB       3860\n",
       "130       soler  PROPN       3447\n",
       "234   equivaler   VERB       1220\n",
       "288       pesar   NOUN        543\n",
       "328      tardar   VERB        542\n",
       "245    estribar   VERB        429\n",
       "466  predominar   VERB        334\n",
       "147  reembolsar   VERB        320\n",
       "166    archivar   VERB        200\n",
       "247    fallecer   VERB        174\n",
       "100  matricular   VERB        145\n",
       "123     reveler  PROPN        133"
      ]
     },
     "metadata": {},
     "output_type": "display_data"
    }
   ],
   "source": [
    "print(f\"Mean verb frequency: {np.mean(list(bow.values())).round(1)}\")\n",
    "mask = (df['frequency'] > 10) & (df['pos'] != 'AUX')\n",
    "df[mask].sort_values('frequency', ascending=False).head(15)"
   ]
  },
  {
   "cell_type": "markdown",
   "metadata": {},
   "source": [
    "### SpaCy Vocab"
   ]
  },
  {
   "cell_type": "code",
   "execution_count": null,
   "metadata": {},
   "outputs": [],
   "source": [
    "def download_vocab(self, model = None) -> list:\n",
    "    \"\"\"\n",
    "    Downloads the vocabulary from the 'es_core_news_md' model.\n",
    "\n",
    "    Returns:\n",
    "    - A list of words.\n",
    "    \"\"\"\n",
    "    if model is None:\n",
    "        model = spacy.load('es_core_news_md')\n",
    "    return [word.lower() for word in model.vocab.strings]"
   ]
  },
  {
   "cell_type": "markdown",
   "metadata": {},
   "source": [
    "### POS Edge Cases\n",
    "\n",
    "Some Spanish words are both verbs and have other meanings, so lets test how our model performs on these worst-case situation within sentences for context."
   ]
  },
  {
   "cell_type": "code",
   "execution_count": null,
   "metadata": {},
   "outputs": [],
   "source": [
    "def trick_verbs_test(model):\n",
    "    \"\"\"\n",
    "    Como / comiendno        means to eat and is also a conjunction\n",
    "    Nada / nadas / nadaba   means to swim and also means \"nothing\"\n",
    "    Pasa / pasas            means to happen and also means raisins\n",
    "\n",
    "    \"\"\"\n",
    "    # We surround the verbs in context so the model can differentiate between the verb and other meaning\n",
    "    test_phrase = '\\\n",
    "        Yo como manzanas. Siempre estoy comiendo manzanas. Ella nada los sabados \\\n",
    "        y tu nadas los domingos. Antes, ella nadaba los domingos tambien. No le \\\n",
    "        pasa nada a ella cuando come pasas'\n",
    "\n",
    "    test_words = ['como', 'nada', 'nadas', 'nadaba', 'pasa', 'pasas']\n",
    "\n",
    "    array = spacy_pos_tagger(test_phrase, model)\n",
    "    df = pd.DataFrame(array, columns=['text', 'pos', 'lemma'])\n",
    "\n",
    "    df['Success'] = df['pos'] == 'VERB'\n",
    "    df = df[df['text'].isin(test_words)]\n",
    "    return df"
   ]
  },
  {
   "cell_type": "code",
   "execution_count": null,
   "metadata": {},
   "outputs": [
    {
     "data": {
      "text/html": [
       "<div>\n",
       "<style scoped>\n",
       "    .dataframe tbody tr th:only-of-type {\n",
       "        vertical-align: middle;\n",
       "    }\n",
       "\n",
       "    .dataframe tbody tr th {\n",
       "        vertical-align: top;\n",
       "    }\n",
       "\n",
       "    .dataframe thead th {\n",
       "        text-align: right;\n",
       "    }\n",
       "</style>\n",
       "<table border=\"1\" class=\"dataframe\">\n",
       "  <thead>\n",
       "    <tr style=\"text-align: right;\">\n",
       "      <th></th>\n",
       "      <th>text</th>\n",
       "      <th>pos</th>\n",
       "      <th>lemma</th>\n",
       "      <th>Success</th>\n",
       "    </tr>\n",
       "  </thead>\n",
       "  <tbody>\n",
       "    <tr>\n",
       "      <th>2</th>\n",
       "      <td>como</td>\n",
       "      <td>SCONJ</td>\n",
       "      <td>como</td>\n",
       "      <td>False</td>\n",
       "    </tr>\n",
       "    <tr>\n",
       "      <th>11</th>\n",
       "      <td>nada</td>\n",
       "      <td>PRON</td>\n",
       "      <td>nada</td>\n",
       "      <td>False</td>\n",
       "    </tr>\n",
       "    <tr>\n",
       "      <th>17</th>\n",
       "      <td>nadas</td>\n",
       "      <td>NOUN</td>\n",
       "      <td>nada</td>\n",
       "      <td>False</td>\n",
       "    </tr>\n",
       "    <tr>\n",
       "      <th>24</th>\n",
       "      <td>nadaba</td>\n",
       "      <td>VERB</td>\n",
       "      <td>nadar</td>\n",
       "      <td>True</td>\n",
       "    </tr>\n",
       "    <tr>\n",
       "      <th>32</th>\n",
       "      <td>pasa</td>\n",
       "      <td>VERB</td>\n",
       "      <td>pasar</td>\n",
       "      <td>True</td>\n",
       "    </tr>\n",
       "    <tr>\n",
       "      <th>33</th>\n",
       "      <td>nada</td>\n",
       "      <td>PRON</td>\n",
       "      <td>nada</td>\n",
       "      <td>False</td>\n",
       "    </tr>\n",
       "    <tr>\n",
       "      <th>38</th>\n",
       "      <td>pasas</td>\n",
       "      <td>VERB</td>\n",
       "      <td>pasar</td>\n",
       "      <td>True</td>\n",
       "    </tr>\n",
       "  </tbody>\n",
       "</table>\n",
       "</div>"
      ],
      "text/plain": [
       "      text    pos  lemma  Success\n",
       "2     como  SCONJ   como    False\n",
       "11    nada   PRON   nada    False\n",
       "17   nadas   NOUN   nada    False\n",
       "24  nadaba   VERB  nadar     True\n",
       "32    pasa   VERB  pasar     True\n",
       "33    nada   PRON   nada    False\n",
       "38   pasas   VERB  pasar     True"
      ]
     },
     "metadata": {},
     "output_type": "display_data"
    }
   ],
   "source": [
    "trick_verbs_test(spacy.load('es_core_news_lg'))"
   ]
  },
  {
   "cell_type": "markdown",
   "metadata": {},
   "source": [
    "We were hoping to see the model correctly label each test word as a verb, but more than half the tests failed.\n",
    "\n",
    "Transformers use Multi-Head attention layers to understand sequences in the context of the rest of the sequence, so lets try SpaCy's tranformer model."
   ]
  },
  {
   "cell_type": "code",
   "execution_count": null,
   "metadata": {},
   "outputs": [
    {
     "data": {
      "text/html": [
       "<div>\n",
       "<style scoped>\n",
       "    .dataframe tbody tr th:only-of-type {\n",
       "        vertical-align: middle;\n",
       "    }\n",
       "\n",
       "    .dataframe tbody tr th {\n",
       "        vertical-align: top;\n",
       "    }\n",
       "\n",
       "    .dataframe thead th {\n",
       "        text-align: right;\n",
       "    }\n",
       "</style>\n",
       "<table border=\"1\" class=\"dataframe\">\n",
       "  <thead>\n",
       "    <tr style=\"text-align: right;\">\n",
       "      <th></th>\n",
       "      <th>text</th>\n",
       "      <th>pos</th>\n",
       "      <th>lemma</th>\n",
       "      <th>Success</th>\n",
       "    </tr>\n",
       "  </thead>\n",
       "  <tbody>\n",
       "    <tr>\n",
       "      <th>2</th>\n",
       "      <td>como</td>\n",
       "      <td>VERB</td>\n",
       "      <td>como</td>\n",
       "      <td>True</td>\n",
       "    </tr>\n",
       "    <tr>\n",
       "      <th>11</th>\n",
       "      <td>nada</td>\n",
       "      <td>VERB</td>\n",
       "      <td>nadar</td>\n",
       "      <td>True</td>\n",
       "    </tr>\n",
       "    <tr>\n",
       "      <th>17</th>\n",
       "      <td>nadas</td>\n",
       "      <td>VERB</td>\n",
       "      <td>nadar</td>\n",
       "      <td>True</td>\n",
       "    </tr>\n",
       "    <tr>\n",
       "      <th>24</th>\n",
       "      <td>nadaba</td>\n",
       "      <td>VERB</td>\n",
       "      <td>nadar</td>\n",
       "      <td>True</td>\n",
       "    </tr>\n",
       "    <tr>\n",
       "      <th>32</th>\n",
       "      <td>pasa</td>\n",
       "      <td>VERB</td>\n",
       "      <td>pasar</td>\n",
       "      <td>True</td>\n",
       "    </tr>\n",
       "    <tr>\n",
       "      <th>33</th>\n",
       "      <td>nada</td>\n",
       "      <td>PRON</td>\n",
       "      <td>nada</td>\n",
       "      <td>False</td>\n",
       "    </tr>\n",
       "    <tr>\n",
       "      <th>38</th>\n",
       "      <td>pasas</td>\n",
       "      <td>NOUN</td>\n",
       "      <td>pasa</td>\n",
       "      <td>False</td>\n",
       "    </tr>\n",
       "  </tbody>\n",
       "</table>\n",
       "</div>"
      ],
      "text/plain": [
       "      text   pos  lemma  Success\n",
       "2     como  VERB   como     True\n",
       "11    nada  VERB  nadar     True\n",
       "17   nadas  VERB  nadar     True\n",
       "24  nadaba  VERB  nadar     True\n",
       "32    pasa  VERB  pasar     True\n",
       "33    nada  PRON   nada    False\n",
       "38   pasas  NOUN   pasa    False"
      ]
     },
     "metadata": {},
     "output_type": "display_data"
    }
   ],
   "source": [
    "trick_verbs_test(spacy.load('es_dep_news_trf'))"
   ]
  },
  {
   "cell_type": "markdown",
   "metadata": {},
   "source": [
    "The transformer was successful on two more of the tricks, but still makes error clear to a Spanish speaker.\n",
    " \n",
    "Thankfully there are not many verbs with other meanings, so we'll stick with the medium sized model for now to save on compute cost."
   ]
  },
  {
   "cell_type": "code",
   "execution_count": null,
   "metadata": {},
   "outputs": [
    {
     "name": "stderr",
     "output_type": "stream",
     "text": [
      "/home/codespace/.python/current/lib/python3.10/site-packages/tqdm/auto.py:21: TqdmWarning: IProgress not found. Please update jupyter and ipywidgets. See https://ipywidgets.readthedocs.io/en/stable/user_install.html\n",
      "  from .autonotebook import tqdm as notebook_tqdm\n",
      "2024-01-27 03:30:41.974173: E external/local_xla/xla/stream_executor/cuda/cuda_dnn.cc:9261] Unable to register cuDNN factory: Attempting to register factory for plugin cuDNN when one has already been registered\n",
      "2024-01-27 03:30:41.974317: E external/local_xla/xla/stream_executor/cuda/cuda_fft.cc:607] Unable to register cuFFT factory: Attempting to register factory for plugin cuFFT when one has already been registered\n",
      "2024-01-27 03:30:42.270566: E external/local_xla/xla/stream_executor/cuda/cuda_blas.cc:1515] Unable to register cuBLAS factory: Attempting to register factory for plugin cuBLAS when one has already been registered\n",
      "2024-01-27 03:30:42.890181: I tensorflow/core/platform/cpu_feature_guard.cc:182] This TensorFlow binary is optimized to use available CPU instructions in performance-critical operations.\n",
      "To enable the following instructions: AVX2 FMA, in other operations, rebuild TensorFlow with the appropriate compiler flags.\n",
      "2024-01-27 03:30:46.416065: W tensorflow/compiler/tf2tensorrt/utils/py_utils.cc:38] TF-TRT Warning: Could not find TensorRT\n",
      "Some weights of XLMRobertaModel were not initialized from the model checkpoint at lighteternal/nli-xlm-r-greek and are newly initialized: ['roberta.pooler.dense.weight', 'roberta.pooler.dense.bias']\n",
      "You should probably TRAIN this model on a down-stream task to be able to use it for predictions and inference.\n",
      "Some weights of XLMRobertaModel were not initialized from the model checkpoint at lighteternal/nli-xlm-r-greek and are newly initialized: ['roberta.pooler.dense.weight', 'roberta.pooler.dense.bias']\n",
      "You should probably TRAIN this model on a down-stream task to be able to use it for predictions and inference.\n"
     ]
    },
    {
     "data": {
      "text/plain": [
       "<transformers.pipelines.feature_extraction.FeatureExtractionPipeline at 0x7f0874e5ffa0>"
      ]
     },
     "metadata": {},
     "output_type": "display_data"
    }
   ],
   "source": [
    "from transformers import pipeline, AutoModel, AutoConfig\n",
    "\n",
    "# Specify the task and the model\n",
    "task_name = 'feature-extraction'\n",
    "model_name = \"lighteternal/nli-xlm-r-greek\" #'Onegafer/glpn-nyu-finetuned-diode-230531-145730'\n",
    "\n",
    "config = AutoConfig.from_pretrained(model_name)\n",
    "model = AutoModel.from_pretrained(model_name)\n",
    "\n",
    "\n",
    "# Create the pipeline\n",
    "feature_extractor = pipeline(task_name, model=model_name)\n",
    "feature_extractor\n"
   ]
  },
  {
   "cell_type": "code",
   "execution_count": null,
   "metadata": {},
   "outputs": [],
   "source": []
  },
  {
   "cell_type": "code",
   "execution_count": null,
   "metadata": {},
   "outputs": [],
   "source": []
  },
  {
   "cell_type": "code",
   "execution_count": null,
   "metadata": {},
   "outputs": [],
   "source": []
  },
  {
   "cell_type": "code",
   "execution_count": null,
   "metadata": {},
   "outputs": [],
   "source": []
  },
  {
   "cell_type": "code",
   "execution_count": null,
   "metadata": {},
   "outputs": [],
   "source": []
  },
  {
   "cell_type": "markdown",
   "metadata": {},
   "source": [
    "\n",
    "### WTF - SpaCy Tokenizer Analysis\n",
    "I dont understand why spacy tokenizer is linear in 2d pca and why new word embeddings add perfectly to that line"
   ]
  },
  {
   "cell_type": "code",
   "execution_count": null,
   "metadata": {},
   "outputs": [],
   "source": [
    "x = spacy.load('es_core_news_md').tokenizer('me gusta vasos, me gusto caballos, y te enoja copas')\n",
    "xx = spacy.load('es_core_news_md').tokenizer('espejo espejo en la pared, quien es el mas bello de todos?')\n",
    "xxx = spacy.load('es_core_news_md').tokenizer('el cesped es verde')\n",
    "data_x = np.array([np.append([z.text, 0], z.vector) for z in x])\n",
    "data_xx = np.array([np.append([z.text, 1], z.vector) for z in xx])\n",
    "data_xxx = np.array([np.append([z.text, 2], z.vector) for z in xxx])\n",
    "data = np.vstack((data_x, data_xx, data_xxx))"
   ]
  },
  {
   "cell_type": "code",
   "execution_count": null,
   "metadata": {},
   "outputs": [
    {
     "data": {
      "text/plain": [
       "(30, 2)"
      ]
     },
     "metadata": {},
     "output_type": "display_data"
    }
   ],
   "source": [
    "pca_dimensions_xxx.shape\n",
    "pca_dimensions.shape\n",
    "# data[:, 0:2].shape"
   ]
  },
  {
   "cell_type": "code",
   "execution_count": null,
   "metadata": {},
   "outputs": [
    {
     "data": {
      "image/png": "[encoded data removed]",
      "text/plain": [
       "<Figure size 640x480 with 2 Axes>"
      ]
     },
     "metadata": {},
     "output_type": "display_data"
    }
   ],
   "source": [
    "from sklearn.decomposition import PCA\n",
    "import matplotlib.pyplot as plt\n",
    "\n",
    "pca = PCA(n_components=2)\n",
    "pca = pca.fit(data_xx[:, 1:])\n",
    "pca_dimensions_x = pca.transform(data_x[:, 1:])\n",
    "pca_dimensions_xx = pca.transform(data_xx[:, 1:])\n",
    "pca_dimensions_xxx = pca.transform(data_xxx[:, 1:])\n",
    "pca_dimensions = np.vstack((pca_dimensions_x, pca_dimensions_xx, pca_dimensions_xxx))\n",
    "pca_results = np.hstack((data[:, 0:2], pca_dimensions))\n",
    "\n",
    "plt.scatter(pca_results[:, 2], pca_results[:, 3], c=data[:, 1].astype(int), cmap='viridis')\n",
    "plt.xlabel('First Principal Component')\n",
    "plt.ylabel('Second Principal Component')\n",
    "plt.colorbar(label='Color scale')\n",
    "for i in range(len(pca_results)):\n",
    "    plt.text(pca_results[i, 2], pca_results[i, 3], pca_results[i, 0])\n",
    "\n",
    "plt.show()"
   ]
  },
  {
   "cell_type": "code",
   "execution_count": null,
   "metadata": {},
   "outputs": [
    {
     "data": {
      "image/png": "[encoded data removed]",
      "text/plain": [
       "<Figure size 640x480 with 1 Axes>"
      ]
     },
     "metadata": {},
     "output_type": "display_data"
    }
   ],
   "source": [
    "import matplotlib.pyplot as plt\n",
    "import numpy as np\n",
    "\n",
    "# Assuming 'pca_results' is a numpy array and 'words' is a list of words\n",
    "for i in range(pca_results.shape[0]):\n",
    "    plt.scatter(pca_results[i, 2], pca_results[i, 3])\n",
    "    plt.text(pca_results[i, 2], pca_results[i, 3], pca_results[i, 0])\n",
    "\n",
    "plt.show()"
   ]
  },
  {
   "cell_type": "code",
   "execution_count": null,
   "metadata": {},
   "outputs": [],
   "source": [
    "x = model.tokenizer('me gusta vasos, me gusto caballos, y te enoja copas')\n",
    "y = model.tokenizer('el cesped es verde')\n",
    "tokens = np.array([z for z in x])\n",
    "text = np.array([z.text for z in x])\n",
    "similarity_matrix = np.array([[token1.similarity(token2) for token2 in tokens] for token1 in tokens])"
   ]
  },
  {
   "cell_type": "code",
   "execution_count": null,
   "metadata": {},
   "outputs": [
    {
     "data": {
      "image/png": "[encoded data removed]",
      "text/plain": [
       "<Figure size 640x480 with 2 Axes>"
      ]
     },
     "metadata": {},
     "output_type": "display_data"
    }
   ],
   "source": [
    "import seaborn as sns\n",
    "import matplotlib.pyplot as plt\n",
    "\n",
    "# Assuming 'similarity_matrix' is a numpy array\n",
    "sns.heatmap(similarity_matrix, annot=True, fmt=\".2f\", xticklabels=text, yticklabels=text)\n",
    "plt.xticks(rotation=45)\n",
    "plt.yticks(rotation=0)  # Optional: to keep y-axis labels horizontal\n",
    "plt.show()"
   ]
  },
  {
   "cell_type": "code",
   "execution_count": null,
   "metadata": {},
   "outputs": [
    {
     "name": "stdout",
     "output_type": "stream",
     "text": [
      "[t-SNE] Computing 10 nearest neighbors...\n",
      "[t-SNE] Indexed 30 samples in 0.001s...\n",
      "[t-SNE] Computed neighbors for 30 samples in 0.001s...\n",
      "[t-SNE] Computed conditional probabilities for sample 30 / 30\n",
      "[t-SNE] Mean sigma: 5.654832\n",
      "[t-SNE] KL divergence after 250 iterations with early exaggeration: 53.274811\n",
      "[t-SNE] KL divergence after 300 iterations: 0.428782\n"
     ]
    },
    {
     "name": "stderr",
     "output_type": "stream",
     "text": [
      "/tmp/ipykernel_37415/3352831105.py:21: MatplotlibDeprecationWarning: The get_cmap function was deprecated in Matplotlib 3.7 and will be removed two minor releases later. Use ``matplotlib.colormaps[name]`` or ``matplotlib.colormaps.get_cmap(obj)`` instead.\n",
      "  cmap = plt.cm.get_cmap('viridis')  # or any other colormap\n"
     ]
    },
    {
     "data": {
      "image/png": "[encoded data removed]",
      "text/plain": [
       "<Figure size 600x500 with 1 Axes>"
      ]
     },
     "metadata": {},
     "output_type": "display_data"
    }
   ],
   "source": [
    "import numpy as np\n",
    "from sklearn.decomposition import PCA\n",
    "from sklearn.manifold import TSNE\n",
    "import matplotlib.pyplot as plt\n",
    "\n",
    "# Assuming data is your 300-dimensional data\n",
    "# data = np.load('your_data.npy')\n",
    "\n",
    "# Apply PCA\n",
    "pca = PCA(n_components=15)\n",
    "pca_result = pca.fit_transform(data[:, 2:])\n",
    "\n",
    "# Apply t-SNE\n",
    "tsne = TSNE(n_components=2, verbose=1, perplexity=3, n_iter=300)\n",
    "tsne_results = tsne.fit_transform(pca_result)\n",
    "\n",
    "# Plot the two dimensions\n",
    "from sklearn.preprocessing import MinMaxScaler\n",
    "scaler = MinMaxScaler()\n",
    "colors = scaler.fit_transform(data[:, 1].reshape(-1, 1))\n",
    "cmap = plt.cm.get_cmap('viridis')  # or any other colormap\n",
    "colors = cmap(colors)\n",
    "\n",
    "plt.figure(figsize=(6,5))\n",
    "for i in range(len(tsne_results)):\n",
    "    plt.scatter(tsne_results[i,0], tsne_results[i,1], c=colors[i])\n",
    "    plt.text(tsne_results[i,0], tsne_results[i,1], str(data[i, 0]))\n",
    "plt.show()"
   ]
  },
  {
   "cell_type": "code",
   "execution_count": null,
   "metadata": {},
   "outputs": [],
   "source": []
  },
  {
   "cell_type": "code",
   "execution_count": null,
   "metadata": {},
   "outputs": [],
   "source": []
  }
 ],
 "metadata": {
  "kernelspec": {
   "display_name": "Python 3",
   "language": "python",
   "name": "python3"
  },
  "language_info": {
   "codemirror_mode": {
    "name": "ipython",
    "version": 3
   },
   "file_extension": ".py",
   "mimetype": "text/x-python",
   "name": "python",
   "nbconvert_exporter": "python",
   "pygments_lexer": "ipython3",
   "version": "3.10.13"
  }
 },
 "nbformat": 4,
 "nbformat_minor": 2
}
